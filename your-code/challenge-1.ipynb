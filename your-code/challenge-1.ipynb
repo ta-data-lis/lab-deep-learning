{
  "nbformat": 4,
  "nbformat_minor": 0,
  "metadata": {
    "kernelspec": {
      "display_name": "Python 3",
      "language": "python",
      "name": "python3"
    },
    "language_info": {
      "codemirror_mode": {
        "name": "ipython",
        "version": 3
      },
      "file_extension": ".py",
      "mimetype": "text/x-python",
      "name": "python",
      "nbconvert_exporter": "python",
      "pygments_lexer": "ipython3",
      "version": "3.7.3"
    },
    "colab": {
      "name": "challenge-1.ipynb",
      "provenance": [],
      "collapsed_sections": []
    }
  },
  "cells": [
    {
      "cell_type": "markdown",
      "metadata": {
        "id": "kjv-ghP_jNqJ",
        "colab_type": "text"
      },
      "source": [
        "# Challenge 1 - Tic Tac Toe\n",
        "\n",
        "In this lab you will perform deep learning analysis on a dataset of playing [Tic Tac Toe](https://en.wikipedia.org/wiki/Tic-tac-toe).\n",
        "\n",
        "There are 9 grids in Tic Tac Toe that are coded as the following picture shows:\n",
        "\n",
        "![Tic Tac Toe Grids](tttboard.jpg)\n",
        "\n",
        "In the first 9 columns of the dataset you can find which marks (`x` or `o`) exist in the grids. If there is no mark in a certain grid, it is labeled as `b`. The last column is `class` which tells you whether Player X (who always moves first in Tic Tac Toe) wins in this configuration. Note that when `class` has the value `False`, it means either Player O wins the game or it ends up as a draw."
      ]
    },
    {
      "cell_type": "markdown",
      "metadata": {
        "id": "BPi9lNcRjNqN",
        "colab_type": "text"
      },
      "source": [
        "Follow the steps suggested below to conduct a neural network analysis using Tensorflow and Keras. You will build a deep learning model to predict whether Player X wins the game or not.\n",
        "\n",
        "## Step 1: Data Engineering\n",
        "\n",
        "This dataset is almost in the ready-to-use state so you do not need to worry about missing values and so on. Still, some simple data engineering is needed.\n",
        "\n",
        "1. Read `tic-tac-toe.csv` into a dataframe.\n",
        "1. Inspect the dataset. Determine if the dataset is reliable by eyeballing the data.\n",
        "1. Convert the categorical values to numeric in all columns.\n",
        "1. Separate the inputs and output.\n",
        "1. Normalize the input data."
      ]
    },
    {
      "cell_type": "code",
      "metadata": {
        "id": "_P5c_MJSjNqO",
        "colab_type": "code",
        "colab": {}
      },
      "source": [
        "import pandas as pd\n",
        "import numpy as np\n",
        "from sklearn.model_selection import train_test_split\n",
        "from keras.models import Sequential\n",
        "from keras.layers import Dense\n",
        "from keras.utils import to_categorical\n",
        "import matplotlib.pyplot as plt"
      ],
      "execution_count": 0,
      "outputs": []
    },
    {
      "cell_type": "code",
      "metadata": {
        "id": "91_GG1HVjNqS",
        "colab_type": "code",
        "colab": {}
      },
      "source": [
        "ds = pd.read_csv('https://raw.githubusercontent.com/lukessmalley/lab-deep-learning/master/your-code/tic-tac-toe.csv')"
      ],
      "execution_count": 0,
      "outputs": []
    },
    {
      "cell_type": "code",
      "metadata": {
        "id": "1MxXgH0MjNqV",
        "colab_type": "code",
        "colab": {}
      },
      "source": [
        "def explore_data(df):\n",
        "    # this function applies many exploratory techniques to a given dataframe\n",
        "    display(\"Head\", \n",
        "            df.head()\n",
        "            .style\n",
        "            .background_gradient(cmap='Blues')\n",
        "           ) \n",
        "    display(\"Data Types\",\n",
        "            df.dtypes\n",
        "            .to_frame()\n",
        "           ) \n",
        "    display(\"Data Types Count\",\n",
        "            df.dtypes\n",
        "            .to_frame()[0]\n",
        "            .value_counts()\n",
        "            .to_frame()\n",
        "           )\n",
        "    display(\"Nan Values per Column\", \n",
        "            df.isna()\n",
        "            .sum()\n",
        "            .to_frame()\n",
        "            .sort_values(by=[0], ascending=False)\n",
        "           )\n",
        "    display(\"Descriptive Statistics\", \n",
        "            df.describe()\n",
        "           )\n",
        "    display(\"Correlation Matrix\", \n",
        "            df.corr()\n",
        "            .style.background_gradient(cmap='coolwarm')\n",
        "            .set_precision(2)\n",
        "           )"
      ],
      "execution_count": 0,
      "outputs": []
    },
    {
      "cell_type": "code",
      "metadata": {
        "scrolled": true,
        "id": "VtJRXC3EjNqY",
        "colab_type": "code",
        "outputId": "aaebff90-933c-4d55-bb0c-014072c1ff29",
        "colab": {
          "base_uri": "https://localhost:8080/",
          "height": 1000
        }
      },
      "source": [
        "explore_data(ds)"
      ],
      "execution_count": 26,
      "outputs": [
        {
          "output_type": "display_data",
          "data": {
            "text/plain": [
              "'Head'"
            ]
          },
          "metadata": {
            "tags": []
          }
        },
        {
          "output_type": "display_data",
          "data": {
            "text/html": [
              "<style  type=\"text/css\" >\n",
              "</style><table id=\"T_eb2b5dfa_1c15_11ea_82fa_0242ac1c0002\" ><thead>    <tr>        <th class=\"blank level0\" ></th>        <th class=\"col_heading level0 col0\" >TL</th>        <th class=\"col_heading level0 col1\" >TM</th>        <th class=\"col_heading level0 col2\" >TR</th>        <th class=\"col_heading level0 col3\" >ML</th>        <th class=\"col_heading level0 col4\" >MM</th>        <th class=\"col_heading level0 col5\" >MR</th>        <th class=\"col_heading level0 col6\" >BL</th>        <th class=\"col_heading level0 col7\" >BM</th>        <th class=\"col_heading level0 col8\" >BR</th>        <th class=\"col_heading level0 col9\" >class</th>    </tr></thead><tbody>\n",
              "                <tr>\n",
              "                        <th id=\"T_eb2b5dfa_1c15_11ea_82fa_0242ac1c0002level0_row0\" class=\"row_heading level0 row0\" >0</th>\n",
              "                        <td id=\"T_eb2b5dfa_1c15_11ea_82fa_0242ac1c0002row0_col0\" class=\"data row0 col0\" >x</td>\n",
              "                        <td id=\"T_eb2b5dfa_1c15_11ea_82fa_0242ac1c0002row0_col1\" class=\"data row0 col1\" >x</td>\n",
              "                        <td id=\"T_eb2b5dfa_1c15_11ea_82fa_0242ac1c0002row0_col2\" class=\"data row0 col2\" >x</td>\n",
              "                        <td id=\"T_eb2b5dfa_1c15_11ea_82fa_0242ac1c0002row0_col3\" class=\"data row0 col3\" >x</td>\n",
              "                        <td id=\"T_eb2b5dfa_1c15_11ea_82fa_0242ac1c0002row0_col4\" class=\"data row0 col4\" >o</td>\n",
              "                        <td id=\"T_eb2b5dfa_1c15_11ea_82fa_0242ac1c0002row0_col5\" class=\"data row0 col5\" >o</td>\n",
              "                        <td id=\"T_eb2b5dfa_1c15_11ea_82fa_0242ac1c0002row0_col6\" class=\"data row0 col6\" >x</td>\n",
              "                        <td id=\"T_eb2b5dfa_1c15_11ea_82fa_0242ac1c0002row0_col7\" class=\"data row0 col7\" >o</td>\n",
              "                        <td id=\"T_eb2b5dfa_1c15_11ea_82fa_0242ac1c0002row0_col8\" class=\"data row0 col8\" >o</td>\n",
              "                        <td id=\"T_eb2b5dfa_1c15_11ea_82fa_0242ac1c0002row0_col9\" class=\"data row0 col9\" >True</td>\n",
              "            </tr>\n",
              "            <tr>\n",
              "                        <th id=\"T_eb2b5dfa_1c15_11ea_82fa_0242ac1c0002level0_row1\" class=\"row_heading level0 row1\" >1</th>\n",
              "                        <td id=\"T_eb2b5dfa_1c15_11ea_82fa_0242ac1c0002row1_col0\" class=\"data row1 col0\" >x</td>\n",
              "                        <td id=\"T_eb2b5dfa_1c15_11ea_82fa_0242ac1c0002row1_col1\" class=\"data row1 col1\" >x</td>\n",
              "                        <td id=\"T_eb2b5dfa_1c15_11ea_82fa_0242ac1c0002row1_col2\" class=\"data row1 col2\" >x</td>\n",
              "                        <td id=\"T_eb2b5dfa_1c15_11ea_82fa_0242ac1c0002row1_col3\" class=\"data row1 col3\" >x</td>\n",
              "                        <td id=\"T_eb2b5dfa_1c15_11ea_82fa_0242ac1c0002row1_col4\" class=\"data row1 col4\" >o</td>\n",
              "                        <td id=\"T_eb2b5dfa_1c15_11ea_82fa_0242ac1c0002row1_col5\" class=\"data row1 col5\" >o</td>\n",
              "                        <td id=\"T_eb2b5dfa_1c15_11ea_82fa_0242ac1c0002row1_col6\" class=\"data row1 col6\" >o</td>\n",
              "                        <td id=\"T_eb2b5dfa_1c15_11ea_82fa_0242ac1c0002row1_col7\" class=\"data row1 col7\" >x</td>\n",
              "                        <td id=\"T_eb2b5dfa_1c15_11ea_82fa_0242ac1c0002row1_col8\" class=\"data row1 col8\" >o</td>\n",
              "                        <td id=\"T_eb2b5dfa_1c15_11ea_82fa_0242ac1c0002row1_col9\" class=\"data row1 col9\" >True</td>\n",
              "            </tr>\n",
              "            <tr>\n",
              "                        <th id=\"T_eb2b5dfa_1c15_11ea_82fa_0242ac1c0002level0_row2\" class=\"row_heading level0 row2\" >2</th>\n",
              "                        <td id=\"T_eb2b5dfa_1c15_11ea_82fa_0242ac1c0002row2_col0\" class=\"data row2 col0\" >x</td>\n",
              "                        <td id=\"T_eb2b5dfa_1c15_11ea_82fa_0242ac1c0002row2_col1\" class=\"data row2 col1\" >x</td>\n",
              "                        <td id=\"T_eb2b5dfa_1c15_11ea_82fa_0242ac1c0002row2_col2\" class=\"data row2 col2\" >x</td>\n",
              "                        <td id=\"T_eb2b5dfa_1c15_11ea_82fa_0242ac1c0002row2_col3\" class=\"data row2 col3\" >x</td>\n",
              "                        <td id=\"T_eb2b5dfa_1c15_11ea_82fa_0242ac1c0002row2_col4\" class=\"data row2 col4\" >o</td>\n",
              "                        <td id=\"T_eb2b5dfa_1c15_11ea_82fa_0242ac1c0002row2_col5\" class=\"data row2 col5\" >o</td>\n",
              "                        <td id=\"T_eb2b5dfa_1c15_11ea_82fa_0242ac1c0002row2_col6\" class=\"data row2 col6\" >o</td>\n",
              "                        <td id=\"T_eb2b5dfa_1c15_11ea_82fa_0242ac1c0002row2_col7\" class=\"data row2 col7\" >o</td>\n",
              "                        <td id=\"T_eb2b5dfa_1c15_11ea_82fa_0242ac1c0002row2_col8\" class=\"data row2 col8\" >x</td>\n",
              "                        <td id=\"T_eb2b5dfa_1c15_11ea_82fa_0242ac1c0002row2_col9\" class=\"data row2 col9\" >True</td>\n",
              "            </tr>\n",
              "            <tr>\n",
              "                        <th id=\"T_eb2b5dfa_1c15_11ea_82fa_0242ac1c0002level0_row3\" class=\"row_heading level0 row3\" >3</th>\n",
              "                        <td id=\"T_eb2b5dfa_1c15_11ea_82fa_0242ac1c0002row3_col0\" class=\"data row3 col0\" >x</td>\n",
              "                        <td id=\"T_eb2b5dfa_1c15_11ea_82fa_0242ac1c0002row3_col1\" class=\"data row3 col1\" >x</td>\n",
              "                        <td id=\"T_eb2b5dfa_1c15_11ea_82fa_0242ac1c0002row3_col2\" class=\"data row3 col2\" >x</td>\n",
              "                        <td id=\"T_eb2b5dfa_1c15_11ea_82fa_0242ac1c0002row3_col3\" class=\"data row3 col3\" >x</td>\n",
              "                        <td id=\"T_eb2b5dfa_1c15_11ea_82fa_0242ac1c0002row3_col4\" class=\"data row3 col4\" >o</td>\n",
              "                        <td id=\"T_eb2b5dfa_1c15_11ea_82fa_0242ac1c0002row3_col5\" class=\"data row3 col5\" >o</td>\n",
              "                        <td id=\"T_eb2b5dfa_1c15_11ea_82fa_0242ac1c0002row3_col6\" class=\"data row3 col6\" >o</td>\n",
              "                        <td id=\"T_eb2b5dfa_1c15_11ea_82fa_0242ac1c0002row3_col7\" class=\"data row3 col7\" >b</td>\n",
              "                        <td id=\"T_eb2b5dfa_1c15_11ea_82fa_0242ac1c0002row3_col8\" class=\"data row3 col8\" >b</td>\n",
              "                        <td id=\"T_eb2b5dfa_1c15_11ea_82fa_0242ac1c0002row3_col9\" class=\"data row3 col9\" >True</td>\n",
              "            </tr>\n",
              "            <tr>\n",
              "                        <th id=\"T_eb2b5dfa_1c15_11ea_82fa_0242ac1c0002level0_row4\" class=\"row_heading level0 row4\" >4</th>\n",
              "                        <td id=\"T_eb2b5dfa_1c15_11ea_82fa_0242ac1c0002row4_col0\" class=\"data row4 col0\" >x</td>\n",
              "                        <td id=\"T_eb2b5dfa_1c15_11ea_82fa_0242ac1c0002row4_col1\" class=\"data row4 col1\" >x</td>\n",
              "                        <td id=\"T_eb2b5dfa_1c15_11ea_82fa_0242ac1c0002row4_col2\" class=\"data row4 col2\" >x</td>\n",
              "                        <td id=\"T_eb2b5dfa_1c15_11ea_82fa_0242ac1c0002row4_col3\" class=\"data row4 col3\" >x</td>\n",
              "                        <td id=\"T_eb2b5dfa_1c15_11ea_82fa_0242ac1c0002row4_col4\" class=\"data row4 col4\" >o</td>\n",
              "                        <td id=\"T_eb2b5dfa_1c15_11ea_82fa_0242ac1c0002row4_col5\" class=\"data row4 col5\" >o</td>\n",
              "                        <td id=\"T_eb2b5dfa_1c15_11ea_82fa_0242ac1c0002row4_col6\" class=\"data row4 col6\" >b</td>\n",
              "                        <td id=\"T_eb2b5dfa_1c15_11ea_82fa_0242ac1c0002row4_col7\" class=\"data row4 col7\" >o</td>\n",
              "                        <td id=\"T_eb2b5dfa_1c15_11ea_82fa_0242ac1c0002row4_col8\" class=\"data row4 col8\" >b</td>\n",
              "                        <td id=\"T_eb2b5dfa_1c15_11ea_82fa_0242ac1c0002row4_col9\" class=\"data row4 col9\" >True</td>\n",
              "            </tr>\n",
              "    </tbody></table>"
            ],
            "text/plain": [
              "<pandas.io.formats.style.Styler at 0x7f3008cdea58>"
            ]
          },
          "metadata": {
            "tags": []
          }
        },
        {
          "output_type": "display_data",
          "data": {
            "text/plain": [
              "'Data Types'"
            ]
          },
          "metadata": {
            "tags": []
          }
        },
        {
          "output_type": "display_data",
          "data": {
            "text/html": [
              "<div>\n",
              "<style scoped>\n",
              "    .dataframe tbody tr th:only-of-type {\n",
              "        vertical-align: middle;\n",
              "    }\n",
              "\n",
              "    .dataframe tbody tr th {\n",
              "        vertical-align: top;\n",
              "    }\n",
              "\n",
              "    .dataframe thead th {\n",
              "        text-align: right;\n",
              "    }\n",
              "</style>\n",
              "<table border=\"1\" class=\"dataframe\">\n",
              "  <thead>\n",
              "    <tr style=\"text-align: right;\">\n",
              "      <th></th>\n",
              "      <th>0</th>\n",
              "    </tr>\n",
              "  </thead>\n",
              "  <tbody>\n",
              "    <tr>\n",
              "      <th>TL</th>\n",
              "      <td>object</td>\n",
              "    </tr>\n",
              "    <tr>\n",
              "      <th>TM</th>\n",
              "      <td>object</td>\n",
              "    </tr>\n",
              "    <tr>\n",
              "      <th>TR</th>\n",
              "      <td>object</td>\n",
              "    </tr>\n",
              "    <tr>\n",
              "      <th>ML</th>\n",
              "      <td>object</td>\n",
              "    </tr>\n",
              "    <tr>\n",
              "      <th>MM</th>\n",
              "      <td>object</td>\n",
              "    </tr>\n",
              "    <tr>\n",
              "      <th>MR</th>\n",
              "      <td>object</td>\n",
              "    </tr>\n",
              "    <tr>\n",
              "      <th>BL</th>\n",
              "      <td>object</td>\n",
              "    </tr>\n",
              "    <tr>\n",
              "      <th>BM</th>\n",
              "      <td>object</td>\n",
              "    </tr>\n",
              "    <tr>\n",
              "      <th>BR</th>\n",
              "      <td>object</td>\n",
              "    </tr>\n",
              "    <tr>\n",
              "      <th>class</th>\n",
              "      <td>bool</td>\n",
              "    </tr>\n",
              "  </tbody>\n",
              "</table>\n",
              "</div>"
            ],
            "text/plain": [
              "            0\n",
              "TL     object\n",
              "TM     object\n",
              "TR     object\n",
              "ML     object\n",
              "MM     object\n",
              "MR     object\n",
              "BL     object\n",
              "BM     object\n",
              "BR     object\n",
              "class    bool"
            ]
          },
          "metadata": {
            "tags": []
          }
        },
        {
          "output_type": "display_data",
          "data": {
            "text/plain": [
              "'Data Types Count'"
            ]
          },
          "metadata": {
            "tags": []
          }
        },
        {
          "output_type": "display_data",
          "data": {
            "text/html": [
              "<div>\n",
              "<style scoped>\n",
              "    .dataframe tbody tr th:only-of-type {\n",
              "        vertical-align: middle;\n",
              "    }\n",
              "\n",
              "    .dataframe tbody tr th {\n",
              "        vertical-align: top;\n",
              "    }\n",
              "\n",
              "    .dataframe thead th {\n",
              "        text-align: right;\n",
              "    }\n",
              "</style>\n",
              "<table border=\"1\" class=\"dataframe\">\n",
              "  <thead>\n",
              "    <tr style=\"text-align: right;\">\n",
              "      <th></th>\n",
              "      <th>0</th>\n",
              "    </tr>\n",
              "  </thead>\n",
              "  <tbody>\n",
              "    <tr>\n",
              "      <th>object</th>\n",
              "      <td>9</td>\n",
              "    </tr>\n",
              "    <tr>\n",
              "      <th>bool</th>\n",
              "      <td>1</td>\n",
              "    </tr>\n",
              "  </tbody>\n",
              "</table>\n",
              "</div>"
            ],
            "text/plain": [
              "        0\n",
              "object  9\n",
              "bool    1"
            ]
          },
          "metadata": {
            "tags": []
          }
        },
        {
          "output_type": "display_data",
          "data": {
            "text/plain": [
              "'Nan Values per Column'"
            ]
          },
          "metadata": {
            "tags": []
          }
        },
        {
          "output_type": "display_data",
          "data": {
            "text/html": [
              "<div>\n",
              "<style scoped>\n",
              "    .dataframe tbody tr th:only-of-type {\n",
              "        vertical-align: middle;\n",
              "    }\n",
              "\n",
              "    .dataframe tbody tr th {\n",
              "        vertical-align: top;\n",
              "    }\n",
              "\n",
              "    .dataframe thead th {\n",
              "        text-align: right;\n",
              "    }\n",
              "</style>\n",
              "<table border=\"1\" class=\"dataframe\">\n",
              "  <thead>\n",
              "    <tr style=\"text-align: right;\">\n",
              "      <th></th>\n",
              "      <th>0</th>\n",
              "    </tr>\n",
              "  </thead>\n",
              "  <tbody>\n",
              "    <tr>\n",
              "      <th>TL</th>\n",
              "      <td>0</td>\n",
              "    </tr>\n",
              "    <tr>\n",
              "      <th>TM</th>\n",
              "      <td>0</td>\n",
              "    </tr>\n",
              "    <tr>\n",
              "      <th>TR</th>\n",
              "      <td>0</td>\n",
              "    </tr>\n",
              "    <tr>\n",
              "      <th>ML</th>\n",
              "      <td>0</td>\n",
              "    </tr>\n",
              "    <tr>\n",
              "      <th>MM</th>\n",
              "      <td>0</td>\n",
              "    </tr>\n",
              "    <tr>\n",
              "      <th>MR</th>\n",
              "      <td>0</td>\n",
              "    </tr>\n",
              "    <tr>\n",
              "      <th>BL</th>\n",
              "      <td>0</td>\n",
              "    </tr>\n",
              "    <tr>\n",
              "      <th>BM</th>\n",
              "      <td>0</td>\n",
              "    </tr>\n",
              "    <tr>\n",
              "      <th>BR</th>\n",
              "      <td>0</td>\n",
              "    </tr>\n",
              "    <tr>\n",
              "      <th>class</th>\n",
              "      <td>0</td>\n",
              "    </tr>\n",
              "  </tbody>\n",
              "</table>\n",
              "</div>"
            ],
            "text/plain": [
              "       0\n",
              "TL     0\n",
              "TM     0\n",
              "TR     0\n",
              "ML     0\n",
              "MM     0\n",
              "MR     0\n",
              "BL     0\n",
              "BM     0\n",
              "BR     0\n",
              "class  0"
            ]
          },
          "metadata": {
            "tags": []
          }
        },
        {
          "output_type": "display_data",
          "data": {
            "text/plain": [
              "'Descriptive Statistics'"
            ]
          },
          "metadata": {
            "tags": []
          }
        },
        {
          "output_type": "display_data",
          "data": {
            "text/html": [
              "<div>\n",
              "<style scoped>\n",
              "    .dataframe tbody tr th:only-of-type {\n",
              "        vertical-align: middle;\n",
              "    }\n",
              "\n",
              "    .dataframe tbody tr th {\n",
              "        vertical-align: top;\n",
              "    }\n",
              "\n",
              "    .dataframe thead th {\n",
              "        text-align: right;\n",
              "    }\n",
              "</style>\n",
              "<table border=\"1\" class=\"dataframe\">\n",
              "  <thead>\n",
              "    <tr style=\"text-align: right;\">\n",
              "      <th></th>\n",
              "      <th>TL</th>\n",
              "      <th>TM</th>\n",
              "      <th>TR</th>\n",
              "      <th>ML</th>\n",
              "      <th>MM</th>\n",
              "      <th>MR</th>\n",
              "      <th>BL</th>\n",
              "      <th>BM</th>\n",
              "      <th>BR</th>\n",
              "      <th>class</th>\n",
              "    </tr>\n",
              "  </thead>\n",
              "  <tbody>\n",
              "    <tr>\n",
              "      <th>count</th>\n",
              "      <td>958</td>\n",
              "      <td>958</td>\n",
              "      <td>958</td>\n",
              "      <td>958</td>\n",
              "      <td>958</td>\n",
              "      <td>958</td>\n",
              "      <td>958</td>\n",
              "      <td>958</td>\n",
              "      <td>958</td>\n",
              "      <td>958</td>\n",
              "    </tr>\n",
              "    <tr>\n",
              "      <th>unique</th>\n",
              "      <td>3</td>\n",
              "      <td>3</td>\n",
              "      <td>3</td>\n",
              "      <td>3</td>\n",
              "      <td>3</td>\n",
              "      <td>3</td>\n",
              "      <td>3</td>\n",
              "      <td>3</td>\n",
              "      <td>3</td>\n",
              "      <td>2</td>\n",
              "    </tr>\n",
              "    <tr>\n",
              "      <th>top</th>\n",
              "      <td>x</td>\n",
              "      <td>x</td>\n",
              "      <td>x</td>\n",
              "      <td>x</td>\n",
              "      <td>x</td>\n",
              "      <td>x</td>\n",
              "      <td>x</td>\n",
              "      <td>x</td>\n",
              "      <td>x</td>\n",
              "      <td>True</td>\n",
              "    </tr>\n",
              "    <tr>\n",
              "      <th>freq</th>\n",
              "      <td>418</td>\n",
              "      <td>378</td>\n",
              "      <td>418</td>\n",
              "      <td>378</td>\n",
              "      <td>458</td>\n",
              "      <td>378</td>\n",
              "      <td>418</td>\n",
              "      <td>378</td>\n",
              "      <td>418</td>\n",
              "      <td>626</td>\n",
              "    </tr>\n",
              "  </tbody>\n",
              "</table>\n",
              "</div>"
            ],
            "text/plain": [
              "         TL   TM   TR   ML   MM   MR   BL   BM   BR class\n",
              "count   958  958  958  958  958  958  958  958  958   958\n",
              "unique    3    3    3    3    3    3    3    3    3     2\n",
              "top       x    x    x    x    x    x    x    x    x  True\n",
              "freq    418  378  418  378  458  378  418  378  418   626"
            ]
          },
          "metadata": {
            "tags": []
          }
        },
        {
          "output_type": "display_data",
          "data": {
            "text/plain": [
              "'Correlation Matrix'"
            ]
          },
          "metadata": {
            "tags": []
          }
        },
        {
          "output_type": "display_data",
          "data": {
            "text/html": [
              "<style  type=\"text/css\" >\n",
              "    #T_eb38c71a_1c15_11ea_82fa_0242ac1c0002row0_col0 {\n",
              "            background-color:  #3b4cc0;\n",
              "            color:  #f1f1f1;\n",
              "        }</style><table id=\"T_eb38c71a_1c15_11ea_82fa_0242ac1c0002\" ><thead>    <tr>        <th class=\"blank level0\" ></th>        <th class=\"col_heading level0 col0\" >class</th>    </tr></thead><tbody>\n",
              "                <tr>\n",
              "                        <th id=\"T_eb38c71a_1c15_11ea_82fa_0242ac1c0002level0_row0\" class=\"row_heading level0 row0\" >class</th>\n",
              "                        <td id=\"T_eb38c71a_1c15_11ea_82fa_0242ac1c0002row0_col0\" class=\"data row0 col0\" >1</td>\n",
              "            </tr>\n",
              "    </tbody></table>"
            ],
            "text/plain": [
              "<pandas.io.formats.style.Styler at 0x7f300920a390>"
            ]
          },
          "metadata": {
            "tags": []
          }
        }
      ]
    },
    {
      "cell_type": "code",
      "metadata": {
        "id": "NUI0tdBtjNqc",
        "colab_type": "code",
        "outputId": "3242b237-90ff-4418-d87e-3b6671b89307",
        "colab": {
          "base_uri": "https://localhost:8080/",
          "height": 195
        }
      },
      "source": [
        "ds.head()"
      ],
      "execution_count": 27,
      "outputs": [
        {
          "output_type": "execute_result",
          "data": {
            "text/html": [
              "<div>\n",
              "<style scoped>\n",
              "    .dataframe tbody tr th:only-of-type {\n",
              "        vertical-align: middle;\n",
              "    }\n",
              "\n",
              "    .dataframe tbody tr th {\n",
              "        vertical-align: top;\n",
              "    }\n",
              "\n",
              "    .dataframe thead th {\n",
              "        text-align: right;\n",
              "    }\n",
              "</style>\n",
              "<table border=\"1\" class=\"dataframe\">\n",
              "  <thead>\n",
              "    <tr style=\"text-align: right;\">\n",
              "      <th></th>\n",
              "      <th>TL</th>\n",
              "      <th>TM</th>\n",
              "      <th>TR</th>\n",
              "      <th>ML</th>\n",
              "      <th>MM</th>\n",
              "      <th>MR</th>\n",
              "      <th>BL</th>\n",
              "      <th>BM</th>\n",
              "      <th>BR</th>\n",
              "      <th>class</th>\n",
              "    </tr>\n",
              "  </thead>\n",
              "  <tbody>\n",
              "    <tr>\n",
              "      <th>0</th>\n",
              "      <td>x</td>\n",
              "      <td>x</td>\n",
              "      <td>x</td>\n",
              "      <td>x</td>\n",
              "      <td>o</td>\n",
              "      <td>o</td>\n",
              "      <td>x</td>\n",
              "      <td>o</td>\n",
              "      <td>o</td>\n",
              "      <td>True</td>\n",
              "    </tr>\n",
              "    <tr>\n",
              "      <th>1</th>\n",
              "      <td>x</td>\n",
              "      <td>x</td>\n",
              "      <td>x</td>\n",
              "      <td>x</td>\n",
              "      <td>o</td>\n",
              "      <td>o</td>\n",
              "      <td>o</td>\n",
              "      <td>x</td>\n",
              "      <td>o</td>\n",
              "      <td>True</td>\n",
              "    </tr>\n",
              "    <tr>\n",
              "      <th>2</th>\n",
              "      <td>x</td>\n",
              "      <td>x</td>\n",
              "      <td>x</td>\n",
              "      <td>x</td>\n",
              "      <td>o</td>\n",
              "      <td>o</td>\n",
              "      <td>o</td>\n",
              "      <td>o</td>\n",
              "      <td>x</td>\n",
              "      <td>True</td>\n",
              "    </tr>\n",
              "    <tr>\n",
              "      <th>3</th>\n",
              "      <td>x</td>\n",
              "      <td>x</td>\n",
              "      <td>x</td>\n",
              "      <td>x</td>\n",
              "      <td>o</td>\n",
              "      <td>o</td>\n",
              "      <td>o</td>\n",
              "      <td>b</td>\n",
              "      <td>b</td>\n",
              "      <td>True</td>\n",
              "    </tr>\n",
              "    <tr>\n",
              "      <th>4</th>\n",
              "      <td>x</td>\n",
              "      <td>x</td>\n",
              "      <td>x</td>\n",
              "      <td>x</td>\n",
              "      <td>o</td>\n",
              "      <td>o</td>\n",
              "      <td>b</td>\n",
              "      <td>o</td>\n",
              "      <td>b</td>\n",
              "      <td>True</td>\n",
              "    </tr>\n",
              "  </tbody>\n",
              "</table>\n",
              "</div>"
            ],
            "text/plain": [
              "  TL TM TR ML MM MR BL BM BR  class\n",
              "0  x  x  x  x  o  o  x  o  o   True\n",
              "1  x  x  x  x  o  o  o  x  o   True\n",
              "2  x  x  x  x  o  o  o  o  x   True\n",
              "3  x  x  x  x  o  o  o  b  b   True\n",
              "4  x  x  x  x  o  o  b  o  b   True"
            ]
          },
          "metadata": {
            "tags": []
          },
          "execution_count": 27
        }
      ]
    },
    {
      "cell_type": "code",
      "metadata": {
        "id": "hqeTxBEGjNqf",
        "colab_type": "code",
        "colab": {}
      },
      "source": [
        "ds.iloc[:,:-1] = ds.iloc[:,:-1].apply(lambda x: x=='x').astype('int')"
      ],
      "execution_count": 0,
      "outputs": []
    },
    {
      "cell_type": "code",
      "metadata": {
        "id": "UZ1jd5p-jNqi",
        "colab_type": "code",
        "colab": {}
      },
      "source": [
        "X = ds.iloc[:,:-1]\n",
        "y = ds.iloc[:,-1:]"
      ],
      "execution_count": 0,
      "outputs": []
    },
    {
      "cell_type": "code",
      "metadata": {
        "id": "s_EEsffLCCtv",
        "colab_type": "code",
        "colab": {}
      },
      "source": [
        "X = tf.keras.utils.normalize(X)"
      ],
      "execution_count": 0,
      "outputs": []
    },
    {
      "cell_type": "code",
      "metadata": {
        "id": "XtUXsfOdnumw",
        "colab_type": "code",
        "outputId": "ffaf420d-2c54-484a-d133-821695f1ca0b",
        "colab": {
          "base_uri": "https://localhost:8080/",
          "height": 402
        }
      },
      "source": [
        "X"
      ],
      "execution_count": 31,
      "outputs": [
        {
          "output_type": "execute_result",
          "data": {
            "text/html": [
              "<div>\n",
              "<style scoped>\n",
              "    .dataframe tbody tr th:only-of-type {\n",
              "        vertical-align: middle;\n",
              "    }\n",
              "\n",
              "    .dataframe tbody tr th {\n",
              "        vertical-align: top;\n",
              "    }\n",
              "\n",
              "    .dataframe thead th {\n",
              "        text-align: right;\n",
              "    }\n",
              "</style>\n",
              "<table border=\"1\" class=\"dataframe\">\n",
              "  <thead>\n",
              "    <tr style=\"text-align: right;\">\n",
              "      <th></th>\n",
              "      <th>TL</th>\n",
              "      <th>TM</th>\n",
              "      <th>TR</th>\n",
              "      <th>ML</th>\n",
              "      <th>MM</th>\n",
              "      <th>MR</th>\n",
              "      <th>BL</th>\n",
              "      <th>BM</th>\n",
              "      <th>BR</th>\n",
              "    </tr>\n",
              "  </thead>\n",
              "  <tbody>\n",
              "    <tr>\n",
              "      <th>0</th>\n",
              "      <td>0.447214</td>\n",
              "      <td>0.447214</td>\n",
              "      <td>0.447214</td>\n",
              "      <td>0.447214</td>\n",
              "      <td>0.000000</td>\n",
              "      <td>0.000000</td>\n",
              "      <td>0.447214</td>\n",
              "      <td>0.000000</td>\n",
              "      <td>0.000000</td>\n",
              "    </tr>\n",
              "    <tr>\n",
              "      <th>1</th>\n",
              "      <td>0.447214</td>\n",
              "      <td>0.447214</td>\n",
              "      <td>0.447214</td>\n",
              "      <td>0.447214</td>\n",
              "      <td>0.000000</td>\n",
              "      <td>0.000000</td>\n",
              "      <td>0.000000</td>\n",
              "      <td>0.447214</td>\n",
              "      <td>0.000000</td>\n",
              "    </tr>\n",
              "    <tr>\n",
              "      <th>2</th>\n",
              "      <td>0.447214</td>\n",
              "      <td>0.447214</td>\n",
              "      <td>0.447214</td>\n",
              "      <td>0.447214</td>\n",
              "      <td>0.000000</td>\n",
              "      <td>0.000000</td>\n",
              "      <td>0.000000</td>\n",
              "      <td>0.000000</td>\n",
              "      <td>0.447214</td>\n",
              "    </tr>\n",
              "    <tr>\n",
              "      <th>3</th>\n",
              "      <td>0.500000</td>\n",
              "      <td>0.500000</td>\n",
              "      <td>0.500000</td>\n",
              "      <td>0.500000</td>\n",
              "      <td>0.000000</td>\n",
              "      <td>0.000000</td>\n",
              "      <td>0.000000</td>\n",
              "      <td>0.000000</td>\n",
              "      <td>0.000000</td>\n",
              "    </tr>\n",
              "    <tr>\n",
              "      <th>4</th>\n",
              "      <td>0.500000</td>\n",
              "      <td>0.500000</td>\n",
              "      <td>0.500000</td>\n",
              "      <td>0.500000</td>\n",
              "      <td>0.000000</td>\n",
              "      <td>0.000000</td>\n",
              "      <td>0.000000</td>\n",
              "      <td>0.000000</td>\n",
              "      <td>0.000000</td>\n",
              "    </tr>\n",
              "    <tr>\n",
              "      <th>...</th>\n",
              "      <td>...</td>\n",
              "      <td>...</td>\n",
              "      <td>...</td>\n",
              "      <td>...</td>\n",
              "      <td>...</td>\n",
              "      <td>...</td>\n",
              "      <td>...</td>\n",
              "      <td>...</td>\n",
              "      <td>...</td>\n",
              "    </tr>\n",
              "    <tr>\n",
              "      <th>953</th>\n",
              "      <td>0.000000</td>\n",
              "      <td>0.447214</td>\n",
              "      <td>0.447214</td>\n",
              "      <td>0.447214</td>\n",
              "      <td>0.000000</td>\n",
              "      <td>0.000000</td>\n",
              "      <td>0.000000</td>\n",
              "      <td>0.447214</td>\n",
              "      <td>0.447214</td>\n",
              "    </tr>\n",
              "    <tr>\n",
              "      <th>954</th>\n",
              "      <td>0.000000</td>\n",
              "      <td>0.447214</td>\n",
              "      <td>0.000000</td>\n",
              "      <td>0.447214</td>\n",
              "      <td>0.447214</td>\n",
              "      <td>0.000000</td>\n",
              "      <td>0.447214</td>\n",
              "      <td>0.000000</td>\n",
              "      <td>0.447214</td>\n",
              "    </tr>\n",
              "    <tr>\n",
              "      <th>955</th>\n",
              "      <td>0.000000</td>\n",
              "      <td>0.447214</td>\n",
              "      <td>0.000000</td>\n",
              "      <td>0.447214</td>\n",
              "      <td>0.000000</td>\n",
              "      <td>0.447214</td>\n",
              "      <td>0.447214</td>\n",
              "      <td>0.000000</td>\n",
              "      <td>0.447214</td>\n",
              "    </tr>\n",
              "    <tr>\n",
              "      <th>956</th>\n",
              "      <td>0.000000</td>\n",
              "      <td>0.447214</td>\n",
              "      <td>0.000000</td>\n",
              "      <td>0.000000</td>\n",
              "      <td>0.447214</td>\n",
              "      <td>0.447214</td>\n",
              "      <td>0.447214</td>\n",
              "      <td>0.000000</td>\n",
              "      <td>0.447214</td>\n",
              "    </tr>\n",
              "    <tr>\n",
              "      <th>957</th>\n",
              "      <td>0.000000</td>\n",
              "      <td>0.000000</td>\n",
              "      <td>0.447214</td>\n",
              "      <td>0.447214</td>\n",
              "      <td>0.447214</td>\n",
              "      <td>0.000000</td>\n",
              "      <td>0.000000</td>\n",
              "      <td>0.447214</td>\n",
              "      <td>0.447214</td>\n",
              "    </tr>\n",
              "  </tbody>\n",
              "</table>\n",
              "<p>958 rows × 9 columns</p>\n",
              "</div>"
            ],
            "text/plain": [
              "           TL        TM        TR  ...        BL        BM        BR\n",
              "0    0.447214  0.447214  0.447214  ...  0.447214  0.000000  0.000000\n",
              "1    0.447214  0.447214  0.447214  ...  0.000000  0.447214  0.000000\n",
              "2    0.447214  0.447214  0.447214  ...  0.000000  0.000000  0.447214\n",
              "3    0.500000  0.500000  0.500000  ...  0.000000  0.000000  0.000000\n",
              "4    0.500000  0.500000  0.500000  ...  0.000000  0.000000  0.000000\n",
              "..        ...       ...       ...  ...       ...       ...       ...\n",
              "953  0.000000  0.447214  0.447214  ...  0.000000  0.447214  0.447214\n",
              "954  0.000000  0.447214  0.000000  ...  0.447214  0.000000  0.447214\n",
              "955  0.000000  0.447214  0.000000  ...  0.447214  0.000000  0.447214\n",
              "956  0.000000  0.447214  0.000000  ...  0.447214  0.000000  0.447214\n",
              "957  0.000000  0.000000  0.447214  ...  0.000000  0.447214  0.447214\n",
              "\n",
              "[958 rows x 9 columns]"
            ]
          },
          "metadata": {
            "tags": []
          },
          "execution_count": 31
        }
      ]
    },
    {
      "cell_type": "markdown",
      "metadata": {
        "id": "Nzk7GrR9jNql",
        "colab_type": "text"
      },
      "source": [
        "## Step 2: Build Neural Network\n",
        "\n",
        "To build the neural network, you can refer to your own codes you wrote while following the [Deep Learning with Python, TensorFlow, and Keras tutorial](https://www.youtube.com/watch?v=wQ8BIBpya2k) in the lesson. It's pretty similar to what you will be doing in this lab.\n",
        "\n",
        "1. Split the training and test data.\n",
        "1. Create a `Sequential` model.\n",
        "1. Add several layers to your model. Make sure you use ReLU as the activation function for the middle layers. Use Softmax for the output layer because each output has a single lable and all the label probabilities add up to 1.\n",
        "1. Compile the model using `adam` as the optimizer and `sparse_categorical_crossentropy` as the loss function. For metrics, use `accuracy` for now.\n",
        "1. Fit the training data.\n",
        "1. Evaluate your neural network model with the test data.\n",
        "1. Save your model as `tic-tac-toe.model`."
      ]
    },
    {
      "cell_type": "code",
      "metadata": {
        "id": "QtPQpp_RjNql",
        "colab_type": "code",
        "colab": {}
      },
      "source": [
        "X_train, X_test, y_train, y_test = train_test_split(X, y, test_size = 0.2)"
      ],
      "execution_count": 0,
      "outputs": []
    },
    {
      "cell_type": "code",
      "metadata": {
        "id": "nZr5lq6EkBtv",
        "colab_type": "code",
        "colab": {}
      },
      "source": [
        "model = Sequential([\n",
        "  Dense(64, activation='relu', input_shape=(9,)),\n",
        "  Dense(64, activation='relu'),\n",
        "  Dense(2, activation='softmax')])  # Dense = 2 because possible outputs are \"win\" or \"lose\""
      ],
      "execution_count": 0,
      "outputs": []
    },
    {
      "cell_type": "code",
      "metadata": {
        "id": "CIP8488OkEaz",
        "colab_type": "code",
        "colab": {}
      },
      "source": [
        "model.compile(\n",
        "  optimizer='adam',\n",
        "  loss='categorical_crossentropy',\n",
        "  metrics=['accuracy'],\n",
        ")"
      ],
      "execution_count": 0,
      "outputs": []
    },
    {
      "cell_type": "code",
      "metadata": {
        "id": "jfZE0bEdkLX7",
        "colab_type": "code",
        "outputId": "214aabf4-f4a5-4bb8-fa6b-a640504e006d",
        "colab": {
          "base_uri": "https://localhost:8080/",
          "height": 185
        }
      },
      "source": [
        "history = model.fit(\n",
        "  X_train,\n",
        "  to_categorical(y_train),\n",
        "  epochs=5,\n",
        "  batch_size=32,\n",
        ")"
      ],
      "execution_count": 35,
      "outputs": [
        {
          "output_type": "stream",
          "text": [
            "Epoch 1/5\n",
            "766/766 [==============================] - 0s 405us/step - loss: 0.6281 - acc: 0.6619\n",
            "Epoch 2/5\n",
            "766/766 [==============================] - 0s 40us/step - loss: 0.5865 - acc: 0.6736\n",
            "Epoch 3/5\n",
            "766/766 [==============================] - 0s 38us/step - loss: 0.5567 - acc: 0.7624\n",
            "Epoch 4/5\n",
            "766/766 [==============================] - 0s 41us/step - loss: 0.5290 - acc: 0.7859\n",
            "Epoch 5/5\n",
            "766/766 [==============================] - 0s 43us/step - loss: 0.5052 - acc: 0.8094\n"
          ],
          "name": "stdout"
        }
      ]
    },
    {
      "cell_type": "code",
      "metadata": {
        "id": "t-y8qeaUu9kS",
        "colab_type": "code",
        "outputId": "c7400878-5c3a-4f00-8ce5-83af3052537c",
        "colab": {
          "base_uri": "https://localhost:8080/",
          "height": 50
        }
      },
      "source": [
        "model.evaluate(\n",
        "  X_test,\n",
        "  to_categorical(y_test)\n",
        ")"
      ],
      "execution_count": 36,
      "outputs": [
        {
          "output_type": "stream",
          "text": [
            "192/192 [==============================] - 0s 403us/step\n"
          ],
          "name": "stdout"
        },
        {
          "output_type": "execute_result",
          "data": {
            "text/plain": [
              "[0.5060270776351293, 0.796875]"
            ]
          },
          "metadata": {
            "tags": []
          },
          "execution_count": 36
        }
      ]
    },
    {
      "cell_type": "code",
      "metadata": {
        "id": "ZZAmFOQ6vKsy",
        "colab_type": "code",
        "colab": {}
      },
      "source": [
        "model.save_weights('model.h5')"
      ],
      "execution_count": 0,
      "outputs": []
    },
    {
      "cell_type": "markdown",
      "metadata": {
        "id": "OPvbi4swjNqr",
        "colab_type": "text"
      },
      "source": [
        "## Step 3: Make Predictions\n",
        "\n",
        "Now load your saved model and use it to make predictions on a few random rows in the test dataset. Check if the predictions are correct."
      ]
    },
    {
      "cell_type": "code",
      "metadata": {
        "id": "SYU1trExjNqo",
        "colab_type": "code",
        "colab": {}
      },
      "source": [
        "predictions = model.predict(X_test[:10])"
      ],
      "execution_count": 0,
      "outputs": []
    },
    {
      "cell_type": "code",
      "metadata": {
        "id": "s6pchx8Kwghl",
        "colab_type": "code",
        "outputId": "4b1d3131-8ec7-4059-bb60-65c59ef2dc76",
        "colab": {
          "base_uri": "https://localhost:8080/",
          "height": 34
        }
      },
      "source": [
        "print(np.argmax(predictions, axis=1))"
      ],
      "execution_count": 39,
      "outputs": [
        {
          "output_type": "stream",
          "text": [
            "[0 1 1 1 1 1 0 0 1 1]\n"
          ],
          "name": "stdout"
        }
      ]
    },
    {
      "cell_type": "code",
      "metadata": {
        "id": "2XGPhOpYjNqs",
        "colab_type": "code",
        "outputId": "f117a2de-d42d-47cc-fe86-f0029450af64",
        "colab": {
          "base_uri": "https://localhost:8080/",
          "height": 202
        }
      },
      "source": [
        "print(y_test[:10].astype('int')) "
      ],
      "execution_count": 40,
      "outputs": [
        {
          "output_type": "stream",
          "text": [
            "     class\n",
            "723      0\n",
            "382      1\n",
            "86       1\n",
            "74       1\n",
            "145      1\n",
            "247      1\n",
            "631      0\n",
            "661      0\n",
            "522      1\n",
            "12       1\n"
          ],
          "name": "stdout"
        }
      ]
    },
    {
      "cell_type": "code",
      "metadata": {
        "id": "jqxIgtazxlhK",
        "colab_type": "code",
        "outputId": "3607fffe-090b-4635-d003-a1763f5a9720",
        "colab": {
          "base_uri": "https://localhost:8080/",
          "height": 324
        }
      },
      "source": [
        "pd.DataFrame(history.history).plot(figsize=(8, 5))\n",
        "plt.grid(True)\n",
        "plt.gca().set_ylim(0, 1) # set the vertical range to [0-1]\n",
        "plt.show()"
      ],
      "execution_count": 41,
      "outputs": [
        {
          "output_type": "display_data",
          "data": {
            "image/png": "[encoded data removed]",
            "text/plain": [
              "<Figure size 576x360 with 1 Axes>"
            ]
          },
          "metadata": {
            "tags": []
          }
        }
      ]
    },
    {
      "cell_type": "markdown",
      "metadata": {
        "id": "r1rCxUGujNqv",
        "colab_type": "text"
      },
      "source": [
        "## Step 4: Improve Your Model\n",
        "\n",
        "Did your model achieve low loss (<0.1) and high accuracy (>0.95)? If not, try to improve your model.\n",
        "\n",
        "But how? There are so many things you can play with in Tensorflow and in the next challenge you'll learn about these things. But in this challenge, let's just do a few things to see if they will help.\n",
        "\n",
        "* Add more layers to your model. If the data are complex you need more layers. But don't use more layers than you need. If adding more layers does not improve the model performance you don't need additional layers.\n",
        "* Adjust the learning rate when you compile the model. This means you will create a custom `tf.keras.optimizers.Adam` instance where you specify the learning rate you want. Then pass the instance to `model.compile` as the optimizer.\n",
        "    * `tf.keras.optimizers.Adam` [reference](https://www.tensorflow.org/api_docs/python/tf/keras/optimizers/Adam).\n",
        "    * Don't worry if you don't understand what the learning rate does. You'll learn about it in the next challenge.\n",
        "* Adjust the number of epochs when you fit the training data to the model. Your model performance continues to improve as you train more epochs. But eventually it will reach the ceiling and the performance will stay the same."
      ]
    },
    {
      "cell_type": "code",
      "metadata": {
        "id": "P_2WnlKljNqw",
        "colab_type": "code",
        "outputId": "d980d11f-5217-41fe-ec9c-f0f5d0e84bc5",
        "colab": {
          "base_uri": "https://localhost:8080/",
          "height": 744
        }
      },
      "source": [
        "import tensorflow as tf\n",
        "\n",
        "X_train, X_test, y_train, y_test = train_test_split(X, y, test_size = 0.2)\n",
        "optimizer = tf.keras.optimizers.Adam(learning_rate=0.001)\n",
        "\n",
        "model = Sequential([\n",
        "  Dense(64, activation='relu', input_shape=(9,)),\n",
        "  Dense(64, activation='relu'),\n",
        "  Dense(64, activation='relu'),\n",
        "  Dense(64, activation='relu'),\n",
        "  Dense(64, activation='relu'),\n",
        "  Dense(64, activation='relu'),\n",
        "  Dense(2, activation='softmax')])  # Dense = 2 because possible outputs are \"win\" or \"lose\"\n",
        "model.compile(\n",
        "  optimizer='adam',\n",
        "  #optimizer,\n",
        "  loss='categorical_crossentropy',\n",
        "  metrics=['accuracy'],\n",
        ")\n",
        "history = model.fit(\n",
        "  X_train,\n",
        "  to_categorical(y_train),\n",
        "  epochs=6,\n",
        "  batch_size=32,\n",
        ")\n",
        "model.evaluate(\n",
        "  X_test,\n",
        "  to_categorical(y_test)\n",
        ")\n",
        "model.save_weights('model.h5')\n",
        "\n",
        "predictions = model.predict(X_test[:10])\n",
        "print(np.argmax(predictions, axis=1))\n",
        "print(y_test[:10].astype('int'))\n",
        "\n",
        "pd.DataFrame(history.history).plot(figsize=(8, 5))\n",
        "plt.grid(True)\n",
        "plt.gca().set_ylim(0, 1) # set the vertical range to [0-1]\n",
        "plt.show()"
      ],
      "execution_count": 42,
      "outputs": [
        {
          "output_type": "stream",
          "text": [
            "Epoch 1/6\n",
            "766/766 [==============================] - 1s 676us/step - loss: 0.6542 - acc: 0.6462\n",
            "Epoch 2/6\n",
            "766/766 [==============================] - 0s 59us/step - loss: 0.5822 - acc: 0.6945\n",
            "Epoch 3/6\n",
            "766/766 [==============================] - 0s 52us/step - loss: 0.4930 - acc: 0.7885\n",
            "Epoch 4/6\n",
            "766/766 [==============================] - 0s 52us/step - loss: 0.3730 - acc: 0.8577\n",
            "Epoch 5/6\n",
            "766/766 [==============================] - 0s 50us/step - loss: 0.1986 - acc: 0.9426\n",
            "Epoch 6/6\n",
            "766/766 [==============================] - 0s 55us/step - loss: 0.0705 - acc: 0.9778\n",
            "192/192 [==============================] - 0s 556us/step\n",
            "[0 1 0 0 1 1 0 1 0 0]\n",
            "     class\n",
            "667      0\n",
            "172      1\n",
            "941      0\n",
            "926      0\n",
            "81       1\n",
            "331      1\n",
            "819      0\n",
            "307      1\n",
            "952      0\n",
            "801      0\n"
          ],
          "name": "stdout"
        },
        {
          "output_type": "display_data",
          "data": {
            "image/png": "[encoded data removed]",
            "text/plain": [
              "<Figure size 576x360 with 1 Axes>"
            ]
          },
          "metadata": {
            "tags": []
          }
        }
      ]
    },
    {
      "cell_type": "markdown",
      "metadata": {
        "id": "jlfHswEhjNqz",
        "colab_type": "text"
      },
      "source": [
        "**Which approach(es) did you find helpful to improve your model performance?**"
      ]
    },
    {
      "cell_type": "code",
      "metadata": {
        "id": "Q2CtmcmWjNq0",
        "colab_type": "code",
        "colab": {}
      },
      "source": [
        "# Increasing layers had biggest impact, I then used one more epoch to achieve 99% accuracy."
      ],
      "execution_count": 0,
      "outputs": []
    }
  ]
}