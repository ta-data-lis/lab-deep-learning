{
 "cells": [
  {
   "cell_type": "markdown",
   "metadata": {},
   "source": [
    "# Challenge 1 - Tic Tac Toe\n",
    "\n",
    "In this lab you will perform deep learning analysis on a dataset of playing [Tic Tac Toe](https://en.wikipedia.org/wiki/Tic-tac-toe).\n",
    "\n",
    "There are 9 grids in Tic Tac Toe that are coded as the following picture shows:\n",
    "\n",
    "![Tic Tac Toe Grids](tttboard.jpg)\n",
    "\n",
    "In the first 9 columns of the dataset you can find which marks (`x` or `o`) exist in the grids. If there is no mark in a certain grid, it is labeled as `b`. The last column is `class` which tells you whether Player X (who always moves first in Tic Tac Toe) wins in this configuration. Note that when `class` has the value `False`, it means either Player O wins the game or it ends up as a draw."
   ]
  },
  {
   "cell_type": "markdown",
   "metadata": {},
   "source": [
    "Follow the steps suggested below to conduct a neural network analysis using Tensorflow and Keras. You will build a deep learning model to predict whether Player X wins the game or not.\n",
    "\n",
    "## Step 1: Data Engineering\n",
    "\n",
    "This dataset is almost in the ready-to-use state so you do not need to worry about missing values and so on. Still, some simple data engineering is needed.\n",
    "\n",
    "1. Read `tic-tac-toe.csv` into a dataframe.\n",
    "1. Inspect the dataset. Determine if the dataset is reliable by eyeballing the data.\n",
    "1. Convert the categorical values to numeric in all columns.\n",
    "1. Separate the inputs and output.\n",
    "1. Normalize the input data."
   ]
  },
  {
   "cell_type": "code",
   "execution_count": 7,
   "metadata": {},
   "outputs": [
    {
     "name": "stdout",
     "output_type": "stream",
     "text": [
      "   TL  TM  TR  ML  MM  MR  BL  BM  BR  class\n",
      "0   2   2   2   2   1   1   2   1   1      1\n",
      "1   2   2   2   2   1   1   1   2   1      1\n",
      "2   2   2   2   2   1   1   1   1   2      1\n",
      "3   2   2   2   2   1   1   1   0   0      1\n",
      "4   2   2   2   2   1   1   0   1   0      1\n"
     ]
    }
   ],
   "source": [
    "# your code here\n",
    "\n",
    "# import libraries\n",
    "import pandas as pd\n",
    "from sklearn import preprocessing\n",
    "le = preprocessing.LabelEncoder()\n",
    "\n",
    "# read data\n",
    "tictac = pd.read_csv(\"/Users/rickardramhoj/ironhack_assignments/lab-deep-learning/your-code/tic-tac-toe.csv\")\n",
    "\n",
    "# convert to numerical\n",
    "tictac[\"TL\"] = le.fit_transform(tictac[\"TL\"])\n",
    "tictac[\"TM\"] = le.fit_transform(tictac[\"TM\"])\n",
    "tictac[\"TR\"] = le.fit_transform(tictac[\"TR\"])\n",
    "tictac[\"ML\"] = le.fit_transform(tictac[\"ML\"])\n",
    "tictac[\"MM\"] = le.fit_transform(tictac[\"MM\"])\n",
    "tictac[\"MR\"] = le.fit_transform(tictac[\"MR\"])\n",
    "tictac[\"BL\"] = le.fit_transform(tictac[\"BL\"])\n",
    "tictac[\"BM\"] = le.fit_transform(tictac[\"BM\"])\n",
    "tictac[\"BR\"] = le.fit_transform(tictac[\"BR\"])\n",
    "tictac[\"class\"] = le.fit_transform(tictac[\"class\"])\n",
    "\n",
    "# define input\n",
    "features = tictac.drop([\"class\"], axis=1)\n",
    "\n",
    "# define output\n",
    "target = tictac[\"class\"]\n",
    "\n",
    "# normalize input\n",
    "scaler = preprocessing.StandardScaler()\n",
    "features = scaler.fit_transform(features)\n",
    "\n",
    "# print head\n",
    "print(tictac.head())\n"
   ]
  },
  {
   "cell_type": "markdown",
   "metadata": {},
   "source": [
    "## Step 2: Build Neural Network\n",
    "\n",
    "To build the neural network, you can refer to your own codes you wrote while following the [Deep Learning with Python, TensorFlow, and Keras tutorial](https://www.youtube.com/watch?v=wQ8BIBpya2k) in the lesson. It's pretty similar to what you will be doing in this lab.\n",
    "\n",
    "1. Split the training and test data.\n",
    "1. Create a `Sequential` model.\n",
    "1. Add several layers to your model. Make sure you use ReLU as the activation function for the middle layers. Use Softmax for the output layer because each output has a single lable and all the label probabilities add up to 1.\n",
    "1. Compile the model using `adam` as the optimizer and `sparse_categorical_crossentropy` as the loss function. For metrics, use `accuracy` for now.\n",
    "1. Fit the training data.\n",
    "1. Evaluate your neural network model with the test data.\n",
    "1. Save your model as `tic-tac-toe.model`."
   ]
  },
  {
   "cell_type": "code",
   "execution_count": 11,
   "metadata": {},
   "outputs": [
    {
     "name": "stdout",
     "output_type": "stream",
     "text": [
      "Epoch 1/3\n",
      "23/23 [==============================] - 3s 25ms/step - loss: 0.6181 - accuracy: 0.6630\n",
      "Epoch 2/3\n",
      "23/23 [==============================] - 0s 21ms/step - loss: 0.5508 - accuracy: 0.7312\n",
      "Epoch 3/3\n",
      "23/23 [==============================] - 0s 12ms/step - loss: 0.5080 - accuracy: 0.7855 0s - loss: 0.5403 - accuracy: \n",
      "8/8 [==============================] - 0s 3ms/step - loss: 0.5051 - accuracy: 0.7542\n",
      "0.5050691366195679\n",
      "0.7541666626930237\n"
     ]
    },
    {
     "name": "stderr",
     "output_type": "stream",
     "text": [
      "2021-09-28 21:11:03.580642: W tensorflow/python/util/util.cc:348] Sets are not currently considered sequences, but this may change in the future, so consider avoiding using them.\n"
     ]
    },
    {
     "name": "stdout",
     "output_type": "stream",
     "text": [
      "INFO:tensorflow:Assets written to: tic-tac-toe.model/assets\n"
     ]
    }
   ],
   "source": [
    "# your code here\n",
    "\n",
    "# import libraries\n",
    "from sklearn.model_selection import train_test_split\n",
    "import tensorflow as tf\n",
    "\n",
    "# split into train and test\n",
    "X_train, X_test, y_train, y_test = train_test_split(features, target, random_state=1)\n",
    "\n",
    "# define model\n",
    "model = tf.keras.models.Sequential()\n",
    "\n",
    "# add layers\n",
    "model.add(tf.keras.layers.Dense(128, activation=tf.nn.relu))\n",
    "model.add(tf.keras.layers.Dense(128, activation=tf.nn.relu))\n",
    "model.add(tf.keras.layers.Dense(2, activation=tf.nn.softmax))\n",
    "\n",
    "# compile model\n",
    "model.compile(optimizer='adam',\n",
    "              loss='sparse_categorical_crossentropy',\n",
    "              metrics=['accuracy'])\n",
    "\n",
    "# fit model\n",
    "model.fit(X_train, y_train, epochs=3)\n",
    "\n",
    "# evaluate model\n",
    "val_loss, val_acc = model.evaluate(X_test, y_test)\n",
    "print(val_loss)\n",
    "print(val_acc)\n",
    "\n",
    "# save model\n",
    "model.save('tic-tac-toe.model')"
   ]
  },
  {
   "cell_type": "markdown",
   "metadata": {},
   "source": [
    "## Step 3: Make Predictions\n",
    "\n",
    "Now load your saved model and use it to make predictions on a few random rows in the test dataset. Check if the predictions are correct."
   ]
  },
  {
   "cell_type": "code",
   "execution_count": 12,
   "metadata": {},
   "outputs": [
    {
     "name": "stdout",
     "output_type": "stream",
     "text": [
      "[[0.35851267 0.64148736]\n",
      " [0.25878274 0.7412172 ]\n",
      " [0.2545635  0.74543643]\n",
      " [0.22912289 0.7708771 ]\n",
      " [0.29479566 0.70520437]]\n",
      "241    1\n",
      "849    0\n",
      "436    1\n",
      "386    1\n",
      "345    1\n",
      "Name: class, dtype: int64\n"
     ]
    }
   ],
   "source": [
    "# your code here\n",
    "\n",
    "# load model\n",
    "model = tf.keras.models.load_model('tic-tac-toe.model')\n",
    "\n",
    "# make predictions\n",
    "predictions = model.predict(X_test[:5])\n",
    "\n",
    "# compare predictions with true values\n",
    "print(predictions)\n",
    "print(y_test[:5])\n"
   ]
  },
  {
   "cell_type": "markdown",
   "metadata": {},
   "source": [
    "## Step 4: Improve Your Model\n",
    "\n",
    "Did your model achieve low loss (<0.1) and high accuracy (>0.95)? If not, try to improve your model.\n",
    "\n",
    "But how? There are so many things you can play with in Tensorflow and in the next challenge you'll learn about these things. But in this challenge, let's just do a few things to see if they will help.\n",
    "\n",
    "* Add more layers to your model. If the data are complex you need more layers. But don't use more layers than you need. If adding more layers does not improve the model performance you don't need additional layers.\n",
    "* Adjust the learning rate when you compile the model. This means you will create a custom `tf.keras.optimizers.Adam` instance where you specify the learning rate you want. Then pass the instance to `model.compile` as the optimizer.\n",
    "    * `tf.keras.optimizers.Adam` [reference](https://www.tensorflow.org/api_docs/python/tf/keras/optimizers/Adam).\n",
    "    * Don't worry if you don't understand what the learning rate does. You'll learn about it in the next challenge.\n",
    "* Adjust the number of epochs when you fit the training data to the model. Your model performance continues to improve as you train more epochs. But eventually it will reach the ceiling and the performance will stay the same."
   ]
  },
  {
   "cell_type": "code",
   "execution_count": 24,
   "metadata": {},
   "outputs": [
    {
     "name": "stdout",
     "output_type": "stream",
     "text": [
      "Epoch 1/5\n",
      "23/23 [==============================] - 1s 5ms/step - loss: 0.6424 - accuracy: 0.6435\n",
      "Epoch 2/5\n",
      "23/23 [==============================] - 0s 3ms/step - loss: 0.5486 - accuracy: 0.7159\n",
      "Epoch 3/5\n",
      "23/23 [==============================] - 0s 4ms/step - loss: 0.4277 - accuracy: 0.8148\n",
      "Epoch 4/5\n",
      "23/23 [==============================] - 0s 6ms/step - loss: 0.3145 - accuracy: 0.8677\n",
      "Epoch 5/5\n",
      "23/23 [==============================] - 0s 5ms/step - loss: 0.1806 - accuracy: 0.9415\n",
      "8/8 [==============================] - 0s 3ms/step - loss: 0.2420 - accuracy: 0.8958\n",
      "0.2419986128807068\n",
      "0.8958333134651184\n"
     ]
    }
   ],
   "source": [
    "# your code here\n",
    "\n",
    "# define model\n",
    "model = tf.keras.models.Sequential()\n",
    "\n",
    "# add layers\n",
    "model.add(tf.keras.layers.Dense(128, activation=tf.nn.relu))\n",
    "model.add(tf.keras.layers.Dense(128, activation=tf.nn.relu))\n",
    "model.add(tf.keras.layers.Dense(128, activation=tf.nn.relu))\n",
    "model.add(tf.keras.layers.Dense(128, activation=tf.nn.relu))\n",
    "model.add(tf.keras.layers.Dense(128, activation=tf.nn.relu))\n",
    "model.add(tf.keras.layers.Dense(2, activation=tf.nn.softmax))\n",
    "\n",
    "opt = tf.keras.optimizers.Adam(\n",
    "    learning_rate=0.001, beta_1=0.9, beta_2=0.999, epsilon=1e-07, amsgrad=False,\n",
    "    name='Adam'\n",
    ")\n",
    "# compile model\n",
    "model.compile(optimizer=opt,\n",
    "              loss='sparse_categorical_crossentropy',\n",
    "              metrics=['accuracy'])\n",
    "\n",
    "# fit model\n",
    "model.fit(X_train, y_train, epochs=5)\n",
    "\n",
    "# evaluate model\n",
    "val_loss, val_acc = model.evaluate(X_test, y_test)\n",
    "print(val_loss)\n",
    "print(val_acc)"
   ]
  },
  {
   "cell_type": "markdown",
   "metadata": {},
   "source": [
    "**Which approach(es) did you find helpful to improve your model performance?**"
   ]
  },
  {
   "cell_type": "code",
   "execution_count": 21,
   "metadata": {},
   "outputs": [],
   "source": [
    "# your answer here\n",
    "\n",
    "# Adding more epochs increased the score, but leads to overfitting if too many are used. \n",
    "# Adding extra layers also increased the score, as well as changing the learning rate.    "
   ]
  }
 ],
 "metadata": {
  "kernelspec": {
   "display_name": "Python 3 (ipykernel)",
   "language": "python",
   "name": "python3"
  },
  "language_info": {
   "codemirror_mode": {
    "name": "ipython",
    "version": 3
   },
   "file_extension": ".py",
   "mimetype": "text/x-python",
   "name": "python",
   "nbconvert_exporter": "python",
   "pygments_lexer": "ipython3",
   "version": "3.7.6"
  }
 },
 "nbformat": 4,
 "nbformat_minor": 2
}
