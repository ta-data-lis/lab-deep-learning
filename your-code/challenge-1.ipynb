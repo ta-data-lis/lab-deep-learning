{
 "cells": [
  {
   "cell_type": "markdown",
   "metadata": {},
   "source": [
    "# Challenge 1 - Tic Tac Toe\n",
    "\n",
    "In this lab you will perform deep learning analysis on a dataset of playing [Tic Tac Toe](https://en.wikipedia.org/wiki/Tic-tac-toe).\n",
    "\n",
    "There are 9 grids in Tic Tac Toe that are coded as the following picture shows:\n",
    "\n",
    "![Tic Tac Toe Grids](tttboard.jpg)\n",
    "\n",
    "In the first 9 columns of the dataset you can find which marks (`x` or `o`) exist in the grids. If there is no mark in a certain grid, it is labeled as `b`. The last column is `class` which tells you whether Player X (who always moves first in Tic Tac Toe) wins in this configuration. Note that when `class` has the value `False`, it means either Player O wins the game or it ends up as a draw."
   ]
  },
  {
   "cell_type": "markdown",
   "metadata": {},
   "source": [
    "Follow the steps suggested below to conduct a neural network analysis using Tensorflow and Keras. You will build a deep learning model to predict whether Player X wins the game or not.\n",
    "\n",
    "## Step 1: Data Engineering\n",
    "\n",
    "This dataset is almost in the ready-to-use state so you do not need to worry about missing values and so on. Still, some simple data engineering is needed.\n",
    "\n",
    "1. Read `tic-tac-toe.csv` into a dataframe.\n",
    "1. Inspect the dataset. Determine if the dataset is reliable by eyeballing the data.\n",
    "1. Convert the categorical values to numeric in all columns.\n",
    "1. Separate the inputs and output.\n",
    "1. Normalize the input data."
   ]
  },
  {
   "cell_type": "code",
   "execution_count": 1,
   "metadata": {},
   "outputs": [],
   "source": [
    "import pandas as pd\n",
    "import numpy as np"
   ]
  },
  {
   "cell_type": "code",
   "execution_count": 2,
   "metadata": {},
   "outputs": [
    {
     "data": {
      "text/html": [
       "<div>\n",
       "<style scoped>\n",
       "    .dataframe tbody tr th:only-of-type {\n",
       "        vertical-align: middle;\n",
       "    }\n",
       "\n",
       "    .dataframe tbody tr th {\n",
       "        vertical-align: top;\n",
       "    }\n",
       "\n",
       "    .dataframe thead th {\n",
       "        text-align: right;\n",
       "    }\n",
       "</style>\n",
       "<table border=\"1\" class=\"dataframe\">\n",
       "  <thead>\n",
       "    <tr style=\"text-align: right;\">\n",
       "      <th></th>\n",
       "      <th>TL</th>\n",
       "      <th>TM</th>\n",
       "      <th>TR</th>\n",
       "      <th>ML</th>\n",
       "      <th>MM</th>\n",
       "      <th>MR</th>\n",
       "      <th>BL</th>\n",
       "      <th>BM</th>\n",
       "      <th>BR</th>\n",
       "      <th>class</th>\n",
       "    </tr>\n",
       "  </thead>\n",
       "  <tbody>\n",
       "    <tr>\n",
       "      <th>0</th>\n",
       "      <td>x</td>\n",
       "      <td>x</td>\n",
       "      <td>x</td>\n",
       "      <td>x</td>\n",
       "      <td>o</td>\n",
       "      <td>o</td>\n",
       "      <td>x</td>\n",
       "      <td>o</td>\n",
       "      <td>o</td>\n",
       "      <td>True</td>\n",
       "    </tr>\n",
       "    <tr>\n",
       "      <th>1</th>\n",
       "      <td>x</td>\n",
       "      <td>x</td>\n",
       "      <td>x</td>\n",
       "      <td>x</td>\n",
       "      <td>o</td>\n",
       "      <td>o</td>\n",
       "      <td>o</td>\n",
       "      <td>x</td>\n",
       "      <td>o</td>\n",
       "      <td>True</td>\n",
       "    </tr>\n",
       "    <tr>\n",
       "      <th>2</th>\n",
       "      <td>x</td>\n",
       "      <td>x</td>\n",
       "      <td>x</td>\n",
       "      <td>x</td>\n",
       "      <td>o</td>\n",
       "      <td>o</td>\n",
       "      <td>o</td>\n",
       "      <td>o</td>\n",
       "      <td>x</td>\n",
       "      <td>True</td>\n",
       "    </tr>\n",
       "    <tr>\n",
       "      <th>3</th>\n",
       "      <td>x</td>\n",
       "      <td>x</td>\n",
       "      <td>x</td>\n",
       "      <td>x</td>\n",
       "      <td>o</td>\n",
       "      <td>o</td>\n",
       "      <td>o</td>\n",
       "      <td>b</td>\n",
       "      <td>b</td>\n",
       "      <td>True</td>\n",
       "    </tr>\n",
       "    <tr>\n",
       "      <th>4</th>\n",
       "      <td>x</td>\n",
       "      <td>x</td>\n",
       "      <td>x</td>\n",
       "      <td>x</td>\n",
       "      <td>o</td>\n",
       "      <td>o</td>\n",
       "      <td>b</td>\n",
       "      <td>o</td>\n",
       "      <td>b</td>\n",
       "      <td>True</td>\n",
       "    </tr>\n",
       "  </tbody>\n",
       "</table>\n",
       "</div>"
      ],
      "text/plain": [
       "  TL TM TR ML MM MR BL BM BR  class\n",
       "0  x  x  x  x  o  o  x  o  o   True\n",
       "1  x  x  x  x  o  o  o  x  o   True\n",
       "2  x  x  x  x  o  o  o  o  x   True\n",
       "3  x  x  x  x  o  o  o  b  b   True\n",
       "4  x  x  x  x  o  o  b  o  b   True"
      ]
     },
     "execution_count": 2,
     "metadata": {},
     "output_type": "execute_result"
    }
   ],
   "source": [
    "\n",
    "data = pd.read_csv('tic-tac-toe.csv')\n",
    "data.head()"
   ]
  },
  {
   "cell_type": "code",
   "execution_count": 3,
   "metadata": {},
   "outputs": [
    {
     "data": {
      "text/plain": [
       "(958, 10)"
      ]
     },
     "execution_count": 3,
     "metadata": {},
     "output_type": "execute_result"
    }
   ],
   "source": [
    "data.shape"
   ]
  },
  {
   "cell_type": "code",
   "execution_count": 5,
   "metadata": {},
   "outputs": [
    {
     "data": {
      "text/plain": [
       "TL       0\n",
       "TM       0\n",
       "TR       0\n",
       "ML       0\n",
       "MM       0\n",
       "MR       0\n",
       "BL       0\n",
       "BM       0\n",
       "BR       0\n",
       "class    0\n",
       "dtype: int64"
      ]
     },
     "execution_count": 5,
     "metadata": {},
     "output_type": "execute_result"
    }
   ],
   "source": [
    "data.isnull().sum()"
   ]
  },
  {
   "cell_type": "code",
   "execution_count": 8,
   "metadata": {},
   "outputs": [
    {
     "data": {
      "text/plain": [
       "TL       object\n",
       "TM       object\n",
       "TR       object\n",
       "ML       object\n",
       "MM       object\n",
       "MR       object\n",
       "BL       object\n",
       "BM       object\n",
       "BR       object\n",
       "class      bool\n",
       "dtype: object"
      ]
     },
     "execution_count": 8,
     "metadata": {},
     "output_type": "execute_result"
    }
   ],
   "source": [
    "data.dtypes"
   ]
  },
  {
   "cell_type": "code",
   "execution_count": 10,
   "metadata": {},
   "outputs": [
    {
     "name": "stdout",
     "output_type": "stream",
     "text": [
      "x    418\n",
      "o    335\n",
      "b    205\n",
      "Name: TL, dtype: int64 \n",
      "\n",
      "x    378\n",
      "o    330\n",
      "b    250\n",
      "Name: TM, dtype: int64 \n",
      "\n",
      "x    418\n",
      "o    335\n",
      "b    205\n",
      "Name: TR, dtype: int64 \n",
      "\n",
      "x    378\n",
      "o    330\n",
      "b    250\n",
      "Name: ML, dtype: int64 \n",
      "\n",
      "x    458\n",
      "o    340\n",
      "b    160\n",
      "Name: MM, dtype: int64 \n",
      "\n",
      "x    378\n",
      "o    330\n",
      "b    250\n",
      "Name: MR, dtype: int64 \n",
      "\n",
      "x    418\n",
      "o    335\n",
      "b    205\n",
      "Name: BL, dtype: int64 \n",
      "\n",
      "x    378\n",
      "o    330\n",
      "b    250\n",
      "Name: BM, dtype: int64 \n",
      "\n",
      "x    418\n",
      "o    335\n",
      "b    205\n",
      "Name: BR, dtype: int64 \n",
      "\n",
      "True     626\n",
      "False    332\n",
      "Name: class, dtype: int64 \n",
      "\n"
     ]
    }
   ],
   "source": [
    "# print value counts for all the columns in the dataframe in a readable way\n",
    "\n",
    "for col in data.columns:\n",
    "    print(data[col].value_counts(), \"\\n\")"
   ]
  },
  {
   "cell_type": "code",
   "execution_count": 12,
   "metadata": {},
   "outputs": [
    {
     "data": {
      "text/html": [
       "<div>\n",
       "<style scoped>\n",
       "    .dataframe tbody tr th:only-of-type {\n",
       "        vertical-align: middle;\n",
       "    }\n",
       "\n",
       "    .dataframe tbody tr th {\n",
       "        vertical-align: top;\n",
       "    }\n",
       "\n",
       "    .dataframe thead th {\n",
       "        text-align: right;\n",
       "    }\n",
       "</style>\n",
       "<table border=\"1\" class=\"dataframe\">\n",
       "  <thead>\n",
       "    <tr style=\"text-align: right;\">\n",
       "      <th></th>\n",
       "      <th>TL</th>\n",
       "      <th>TM</th>\n",
       "      <th>TR</th>\n",
       "      <th>ML</th>\n",
       "      <th>MM</th>\n",
       "      <th>MR</th>\n",
       "      <th>BL</th>\n",
       "      <th>BM</th>\n",
       "      <th>BR</th>\n",
       "      <th>class</th>\n",
       "    </tr>\n",
       "  </thead>\n",
       "  <tbody>\n",
       "    <tr>\n",
       "      <th>0</th>\n",
       "      <td>x</td>\n",
       "      <td>x</td>\n",
       "      <td>x</td>\n",
       "      <td>x</td>\n",
       "      <td>o</td>\n",
       "      <td>o</td>\n",
       "      <td>x</td>\n",
       "      <td>o</td>\n",
       "      <td>o</td>\n",
       "      <td>1</td>\n",
       "    </tr>\n",
       "    <tr>\n",
       "      <th>1</th>\n",
       "      <td>x</td>\n",
       "      <td>x</td>\n",
       "      <td>x</td>\n",
       "      <td>x</td>\n",
       "      <td>o</td>\n",
       "      <td>o</td>\n",
       "      <td>o</td>\n",
       "      <td>x</td>\n",
       "      <td>o</td>\n",
       "      <td>1</td>\n",
       "    </tr>\n",
       "    <tr>\n",
       "      <th>2</th>\n",
       "      <td>x</td>\n",
       "      <td>x</td>\n",
       "      <td>x</td>\n",
       "      <td>x</td>\n",
       "      <td>o</td>\n",
       "      <td>o</td>\n",
       "      <td>o</td>\n",
       "      <td>o</td>\n",
       "      <td>x</td>\n",
       "      <td>1</td>\n",
       "    </tr>\n",
       "    <tr>\n",
       "      <th>3</th>\n",
       "      <td>x</td>\n",
       "      <td>x</td>\n",
       "      <td>x</td>\n",
       "      <td>x</td>\n",
       "      <td>o</td>\n",
       "      <td>o</td>\n",
       "      <td>o</td>\n",
       "      <td>b</td>\n",
       "      <td>b</td>\n",
       "      <td>1</td>\n",
       "    </tr>\n",
       "    <tr>\n",
       "      <th>4</th>\n",
       "      <td>x</td>\n",
       "      <td>x</td>\n",
       "      <td>x</td>\n",
       "      <td>x</td>\n",
       "      <td>o</td>\n",
       "      <td>o</td>\n",
       "      <td>b</td>\n",
       "      <td>o</td>\n",
       "      <td>b</td>\n",
       "      <td>1</td>\n",
       "    </tr>\n",
       "  </tbody>\n",
       "</table>\n",
       "</div>"
      ],
      "text/plain": [
       "  TL TM TR ML MM MR BL BM BR  class\n",
       "0  x  x  x  x  o  o  x  o  o      1\n",
       "1  x  x  x  x  o  o  o  x  o      1\n",
       "2  x  x  x  x  o  o  o  o  x      1\n",
       "3  x  x  x  x  o  o  o  b  b      1\n",
       "4  x  x  x  x  o  o  b  o  b      1"
      ]
     },
     "execution_count": 12,
     "metadata": {},
     "output_type": "execute_result"
    }
   ],
   "source": [
    "# turn boolean in class into numeric values\n",
    "# another method: \n",
    "\n",
    "data[\"class\"] = np.where(data[\"class\"], 1, 0)\n",
    "\n",
    "# now \"True\" is 1 and \"False\" is 0\n",
    "data.head()"
   ]
  },
  {
   "cell_type": "code",
   "execution_count": 14,
   "metadata": {},
   "outputs": [
    {
     "data": {
      "text/html": [
       "<div>\n",
       "<style scoped>\n",
       "    .dataframe tbody tr th:only-of-type {\n",
       "        vertical-align: middle;\n",
       "    }\n",
       "\n",
       "    .dataframe tbody tr th {\n",
       "        vertical-align: top;\n",
       "    }\n",
       "\n",
       "    .dataframe thead th {\n",
       "        text-align: right;\n",
       "    }\n",
       "</style>\n",
       "<table border=\"1\" class=\"dataframe\">\n",
       "  <thead>\n",
       "    <tr style=\"text-align: right;\">\n",
       "      <th></th>\n",
       "      <th>TL</th>\n",
       "      <th>TM</th>\n",
       "      <th>TR</th>\n",
       "      <th>ML</th>\n",
       "      <th>MM</th>\n",
       "      <th>MR</th>\n",
       "      <th>BL</th>\n",
       "      <th>BM</th>\n",
       "      <th>BR</th>\n",
       "      <th>class</th>\n",
       "    </tr>\n",
       "  </thead>\n",
       "  <tbody>\n",
       "    <tr>\n",
       "      <th>0</th>\n",
       "      <td>1</td>\n",
       "      <td>1</td>\n",
       "      <td>1</td>\n",
       "      <td>1</td>\n",
       "      <td>-1</td>\n",
       "      <td>-1</td>\n",
       "      <td>1</td>\n",
       "      <td>-1</td>\n",
       "      <td>-1</td>\n",
       "      <td>1</td>\n",
       "    </tr>\n",
       "    <tr>\n",
       "      <th>1</th>\n",
       "      <td>1</td>\n",
       "      <td>1</td>\n",
       "      <td>1</td>\n",
       "      <td>1</td>\n",
       "      <td>-1</td>\n",
       "      <td>-1</td>\n",
       "      <td>-1</td>\n",
       "      <td>1</td>\n",
       "      <td>-1</td>\n",
       "      <td>1</td>\n",
       "    </tr>\n",
       "    <tr>\n",
       "      <th>2</th>\n",
       "      <td>1</td>\n",
       "      <td>1</td>\n",
       "      <td>1</td>\n",
       "      <td>1</td>\n",
       "      <td>-1</td>\n",
       "      <td>-1</td>\n",
       "      <td>-1</td>\n",
       "      <td>-1</td>\n",
       "      <td>1</td>\n",
       "      <td>1</td>\n",
       "    </tr>\n",
       "    <tr>\n",
       "      <th>3</th>\n",
       "      <td>1</td>\n",
       "      <td>1</td>\n",
       "      <td>1</td>\n",
       "      <td>1</td>\n",
       "      <td>-1</td>\n",
       "      <td>-1</td>\n",
       "      <td>-1</td>\n",
       "      <td>0</td>\n",
       "      <td>0</td>\n",
       "      <td>1</td>\n",
       "    </tr>\n",
       "    <tr>\n",
       "      <th>4</th>\n",
       "      <td>1</td>\n",
       "      <td>1</td>\n",
       "      <td>1</td>\n",
       "      <td>1</td>\n",
       "      <td>-1</td>\n",
       "      <td>-1</td>\n",
       "      <td>0</td>\n",
       "      <td>-1</td>\n",
       "      <td>0</td>\n",
       "      <td>1</td>\n",
       "    </tr>\n",
       "  </tbody>\n",
       "</table>\n",
       "</div>"
      ],
      "text/plain": [
       "   TL  TM  TR  ML  MM  MR  BL  BM  BR  class\n",
       "0   1   1   1   1  -1  -1   1  -1  -1      1\n",
       "1   1   1   1   1  -1  -1  -1   1  -1      1\n",
       "2   1   1   1   1  -1  -1  -1  -1   1      1\n",
       "3   1   1   1   1  -1  -1  -1   0   0      1\n",
       "4   1   1   1   1  -1  -1   0  -1   0      1"
      ]
     },
     "execution_count": 14,
     "metadata": {},
     "output_type": "execute_result"
    }
   ],
   "source": [
    "# do the same of all the other columns\n",
    "# np.where() method\n",
    "# 'x' is now 1 and 'o' is now -1\n",
    "# 'b' is now 0\n",
    "\n",
    "for col in data.columns:\n",
    "    if(col != \"class\"):\n",
    "        data[col] = np.where(data[col]==\"x\", 1,\n",
    "                            np.where(data[col]==\"o\", -1, 0))\n",
    "    \n",
    "data.head()"
   ]
  },
  {
   "cell_type": "code",
   "execution_count": 15,
   "metadata": {},
   "outputs": [
    {
     "data": {
      "text/plain": [
       "TL       int64\n",
       "TM       int64\n",
       "TR       int64\n",
       "ML       int64\n",
       "MM       int64\n",
       "MR       int64\n",
       "BL       int64\n",
       "BM       int64\n",
       "BR       int64\n",
       "class    int64\n",
       "dtype: object"
      ]
     },
     "execution_count": 15,
     "metadata": {},
     "output_type": "execute_result"
    }
   ],
   "source": [
    "data.dtypes"
   ]
  },
  {
   "cell_type": "code",
   "execution_count": 16,
   "metadata": {},
   "outputs": [
    {
     "name": "stdout",
     "output_type": "stream",
     "text": [
      " 1    418\n",
      "-1    335\n",
      " 0    205\n",
      "Name: TL, dtype: int64 \n",
      "\n",
      " 1    378\n",
      "-1    330\n",
      " 0    250\n",
      "Name: TM, dtype: int64 \n",
      "\n",
      " 1    418\n",
      "-1    335\n",
      " 0    205\n",
      "Name: TR, dtype: int64 \n",
      "\n",
      " 1    378\n",
      "-1    330\n",
      " 0    250\n",
      "Name: ML, dtype: int64 \n",
      "\n",
      " 1    458\n",
      "-1    340\n",
      " 0    160\n",
      "Name: MM, dtype: int64 \n",
      "\n",
      " 1    378\n",
      "-1    330\n",
      " 0    250\n",
      "Name: MR, dtype: int64 \n",
      "\n",
      " 1    418\n",
      "-1    335\n",
      " 0    205\n",
      "Name: BL, dtype: int64 \n",
      "\n",
      " 1    378\n",
      "-1    330\n",
      " 0    250\n",
      "Name: BM, dtype: int64 \n",
      "\n",
      " 1    418\n",
      "-1    335\n",
      " 0    205\n",
      "Name: BR, dtype: int64 \n",
      "\n",
      "1    626\n",
      "0    332\n",
      "Name: class, dtype: int64 \n",
      "\n"
     ]
    }
   ],
   "source": [
    "# check value counts again\n",
    "\n",
    "for col in data.columns:\n",
    "    print(data[col].value_counts(), \"\\n\")"
   ]
  },
  {
   "cell_type": "code",
   "execution_count": 35,
   "metadata": {},
   "outputs": [],
   "source": [
    "# Separate inputs and output\n",
    "# Pass only arrays of values\n",
    "\n",
    "# X = data.drop('class', axis=1)\n",
    "# y = data['class']\n",
    "\n",
    "X = data.drop('class', axis=1).values\n",
    "y = data['class'].values\n"
   ]
  },
  {
   "cell_type": "markdown",
   "metadata": {},
   "source": [
    "## Step 2: Build Neural Network\n",
    "\n",
    "To build the neural network, you can refer to your own codes you wrote while following the [Deep Learning with Python, TensorFlow, and Keras tutorial](https://www.youtube.com/watch?v=wQ8BIBpya2k) in the lesson. It's pretty similar to what you will be doing in this lab.\n",
    "\n",
    "1. Split the training and test data.\n",
    "1. Create a `Sequential` model.\n",
    "1. Add several layers to your model. Make sure you use ReLU as the activation function for the middle layers. Use Softmax for the output layer because each output has a single lable and all the label probabilities add up to 1.\n",
    "1. Compile the model using `adam` as the optimizer and `sparse_categorical_crossentropy` as the loss function. For metrics, use `accuracy` for now.\n",
    "1. Fit the training data.\n",
    "1. Evaluate your neural network model with the test data.\n",
    "1. Save your model as `tic-tac-toe.model`."
   ]
  },
  {
   "cell_type": "code",
   "execution_count": 36,
   "metadata": {},
   "outputs": [],
   "source": [
    "# Split the training and test data\n",
    "\n",
    "from sklearn.model_selection import train_test_split\n",
    "\n",
    "X_train, X_test, y_train, y_test = train_test_split(X, y, test_size=0.2, random_state=42)"
   ]
  },
  {
   "cell_type": "code",
   "execution_count": 37,
   "metadata": {},
   "outputs": [],
   "source": [
    "from keras.models import Sequential\n",
    "from keras.layers import Dense\n",
    "from keras.utils import to_categorical\n",
    "\n",
    "model = Sequential([\n",
    "    Dense(64, activation='relu', input_shape=(9,)),\n",
    "    Dense(64, activation='relu'),\n",
    "    Dense(2, activation='softmax')])"
   ]
  },
  {
   "cell_type": "code",
   "execution_count": 38,
   "metadata": {},
   "outputs": [],
   "source": [
    "model.compile(\n",
    "    optimizer='adam',\n",
    "    loss='sparse_categorical_crossentropy',\n",
    "    metrics=['accuracy'])\n"
   ]
  },
  {
   "cell_type": "code",
   "execution_count": 39,
   "metadata": {},
   "outputs": [
    {
     "name": "stdout",
     "output_type": "stream",
     "text": [
      "Epoch 1/5\n",
      "766/766 [==============================] - 1s 764us/step - loss: 0.6232 - accuracy: 0.6775\n",
      "Epoch 2/5\n",
      "766/766 [==============================] - 0s 114us/step - loss: 0.5398 - accuracy: 0.7441\n",
      "Epoch 3/5\n",
      "766/766 [==============================] - 0s 91us/step - loss: 0.4977 - accuracy: 0.7637\n",
      "Epoch 4/5\n",
      "766/766 [==============================] - 0s 116us/step - loss: 0.4617 - accuracy: 0.7820\n",
      "Epoch 5/5\n",
      "766/766 [==============================] - 0s 116us/step - loss: 0.4213 - accuracy: 0.8225\n"
     ]
    }
   ],
   "source": [
    "history = model.fit(X_train, y_train, epochs=5, batch_size=32)"
   ]
  },
  {
   "cell_type": "code",
   "execution_count": 40,
   "metadata": {},
   "outputs": [
    {
     "name": "stdout",
     "output_type": "stream",
     "text": [
      "192/192 [==============================] - 0s 506us/step\n"
     ]
    },
    {
     "data": {
      "text/plain": [
       "[0.4149470975001653, 0.8229166865348816]"
      ]
     },
     "execution_count": 40,
     "metadata": {},
     "output_type": "execute_result"
    }
   ],
   "source": [
    "model.evaluate(X_test, y_test)"
   ]
  },
  {
   "cell_type": "code",
   "execution_count": 41,
   "metadata": {},
   "outputs": [],
   "source": [
    "# save the model\n",
    "\n",
    "model.save_weights('tic-tac-toe.model')"
   ]
  },
  {
   "cell_type": "markdown",
   "metadata": {},
   "source": [
    "## Step 3: Make Predictions\n",
    "\n",
    "Now load your saved model and use it to make predictions on a few random rows in the test dataset. Check if the predictions are correct."
   ]
  },
  {
   "cell_type": "code",
   "execution_count": 42,
   "metadata": {},
   "outputs": [
    {
     "name": "stdout",
     "output_type": "stream",
     "text": [
      "87.18 %\n"
     ]
    }
   ],
   "source": [
    "\n",
    "model.load_weights('tic-tac-toe.model')\n",
    "\n",
    "_, test_rows, _, test_labels = train_test_split(X_test, y_test, test_size=0.2, random_state=42)\n",
    "\n",
    "y_pred = model.predict(test_rows)\n",
    "\n",
    "print(round((np.argmax(y_pred, axis=1)==test_labels).sum() * 100 / test_labels.shape[0], 2),'%')\n"
   ]
  },
  {
   "cell_type": "markdown",
   "metadata": {},
   "source": [
    "## Step 4: Improve Your Model\n",
    "\n",
    "Did your model achieve low loss (<0.1) and high accuracy (>0.95)? If not, try to improve your model.\n",
    "\n",
    "But how? There are so many things you can play with in Tensorflow and in the next challenge you'll learn about these things. But in this challenge, let's just do a few things to see if they will help.\n",
    "\n",
    "* Add more layers to your model. If the data are complex you need more layers. But don't use more layers than you need. If adding more layers does not improve the model performance you don't need additional layers.\n",
    "* Adjust the learning rate when you compile the model. This means you will create a custom `tf.keras.optimizers.Adam` instance where you specify the learning rate you want. Then pass the instance to `model.compile` as the optimizer.\n",
    "    * `tf.keras.optimizers.Adam` [reference](https://www.tensorflow.org/api_docs/python/tf/keras/optimizers/Adam).\n",
    "    * Don't worry if you don't understand what the learning rate does. You'll learn about it in the next challenge.\n",
    "* Adjust the number of epochs when you fit the training data to the model. Your model performance continues to improve as you train more epochs. But eventually it will reach the ceiling and the performance will stay the same."
   ]
  },
  {
   "cell_type": "code",
   "execution_count": 48,
   "metadata": {},
   "outputs": [
    {
     "name": "stdout",
     "output_type": "stream",
     "text": [
      "192/192 [==============================] - 1s 3ms/step\n",
      "2 layers; 0.0001 learning rate; 6 epochs; [0.5882300734519958, 0.6927083134651184] \n",
      "\n",
      "192/192 [==============================] - 0s 2ms/step\n",
      "2 layers; 0.0001 learning rate; 8 epochs; [0.6038756966590881, 0.7291666865348816] \n",
      "\n",
      "192/192 [==============================] - 0s 2ms/step\n",
      "2 layers; 0.0001 learning rate; 10 epochs; [0.5836875935395559, 0.7447916865348816] \n",
      "\n",
      "192/192 [==============================] - 0s 2ms/step\n",
      "2 layers; 0.001 learning rate; 6 epochs; [0.5960065921147665, 0.6875] \n",
      "\n",
      "192/192 [==============================] - 0s 2ms/step\n",
      "2 layers; 0.001 learning rate; 8 epochs; [0.5889786630868912, 0.6927083134651184] \n",
      "\n",
      "192/192 [==============================] - 0s 2ms/step\n",
      "2 layers; 0.001 learning rate; 10 epochs; [0.5797113378842672, 0.7291666865348816] \n",
      "\n",
      "192/192 [==============================] - 0s 2ms/step\n",
      "2 layers; 0.01 learning rate; 6 epochs; [0.5916754007339478, 0.7395833134651184] \n",
      "\n",
      "192/192 [==============================] - 0s 2ms/step\n",
      "2 layers; 0.01 learning rate; 8 epochs; [0.5951681236426035, 0.703125] \n",
      "\n",
      "192/192 [==============================] - 0s 2ms/step\n",
      "2 layers; 0.01 learning rate; 10 epochs; [0.5815596381823221, 0.7395833134651184] \n",
      "\n",
      "192/192 [==============================] - 0s 3ms/step\n",
      "3 layers; 0.0001 learning rate; 6 epochs; [0.5917025705178579, 0.6979166865348816] \n",
      "\n",
      "192/192 [==============================] - 0s 3ms/step\n",
      "3 layers; 0.0001 learning rate; 8 epochs; [0.5955702463785807, 0.6927083134651184] \n",
      "\n",
      "192/192 [==============================] - 0s 3ms/step\n",
      "3 layers; 0.0001 learning rate; 10 epochs; [0.5581065913041433, 0.7239583134651184] \n",
      "\n",
      "192/192 [==============================] - 0s 2ms/step\n",
      "3 layers; 0.001 learning rate; 6 epochs; [0.6025189856688181, 0.6927083134651184] \n",
      "\n",
      "192/192 [==============================] - 0s 3ms/step\n",
      "3 layers; 0.001 learning rate; 8 epochs; [0.5807664394378662, 0.6875] \n",
      "\n",
      "192/192 [==============================] - 1s 3ms/step\n",
      "3 layers; 0.001 learning rate; 10 epochs; [0.5705332656701406, 0.7395833134651184] \n",
      "\n",
      "192/192 [==============================] - 1s 3ms/step\n",
      "3 layers; 0.01 learning rate; 6 epochs; [0.6014077365398407, 0.6614583134651184] \n",
      "\n",
      "192/192 [==============================] - 1s 3ms/step\n",
      "3 layers; 0.01 learning rate; 8 epochs; [0.5647442440191904, 0.7083333134651184] \n",
      "\n",
      "192/192 [==============================] - 1s 3ms/step\n",
      "3 layers; 0.01 learning rate; 10 epochs; [0.5693403085072836, 0.7239583134651184] \n",
      "\n",
      "192/192 [==============================] - 1s 3ms/step\n",
      "4 layers; 0.0001 learning rate; 6 epochs; [0.6196440855662028, 0.6510416865348816] \n",
      "\n",
      "192/192 [==============================] - 1s 3ms/step\n",
      "4 layers; 0.0001 learning rate; 8 epochs; [0.6024164060751597, 0.6927083134651184] \n",
      "\n",
      "192/192 [==============================] - 1s 3ms/step\n",
      "4 layers; 0.0001 learning rate; 10 epochs; [0.5663572549819946, 0.703125] \n",
      "\n",
      "192/192 [==============================] - 1s 3ms/step\n",
      "4 layers; 0.001 learning rate; 6 epochs; [0.5773806472619375, 0.7083333134651184] \n",
      "\n",
      "192/192 [==============================] - 1s 3ms/step\n",
      "4 layers; 0.001 learning rate; 8 epochs; [0.5967416763305664, 0.65625] \n",
      "\n",
      "192/192 [==============================] - 1s 3ms/step\n",
      "4 layers; 0.001 learning rate; 10 epochs; [0.5899525980154673, 0.6510416865348816] \n",
      "\n",
      "192/192 [==============================] - 1s 3ms/step\n",
      "4 layers; 0.01 learning rate; 6 epochs; [0.6040208141009012, 0.6666666865348816] \n",
      "\n",
      "192/192 [==============================] - 1s 5ms/step\n",
      "4 layers; 0.01 learning rate; 8 epochs; [0.5946759680906931, 0.671875] \n",
      "\n",
      "192/192 [==============================] - 1s 3ms/step\n",
      "4 layers; 0.01 learning rate; 10 epochs; [0.5864456097284952, 0.6927083134651184] \n",
      "\n",
      "192/192 [==============================] - 1s 3ms/step\n",
      "5 layers; 0.0001 learning rate; 6 epochs; [0.6122024158636729, 0.6510416865348816] \n",
      "\n",
      "192/192 [==============================] - 1s 3ms/step\n",
      "5 layers; 0.0001 learning rate; 8 epochs; [0.61072638630867, 0.6510416865348816] \n",
      "\n",
      "192/192 [==============================] - 1s 3ms/step\n",
      "5 layers; 0.0001 learning rate; 10 epochs; [0.6052527825037638, 0.671875] \n",
      "\n",
      "192/192 [==============================] - 1s 3ms/step\n",
      "5 layers; 0.001 learning rate; 6 epochs; [0.6322441597779592, 0.6510416865348816] \n",
      "\n",
      "192/192 [==============================] - 1s 3ms/step\n",
      "5 layers; 0.001 learning rate; 8 epochs; [0.5726757148901621, 0.6875] \n",
      "\n",
      "192/192 [==============================] - 1s 4ms/step\n",
      "5 layers; 0.001 learning rate; 10 epochs; [0.6185800135135651, 0.6510416865348816] \n",
      "\n",
      "192/192 [==============================] - 1s 3ms/step\n",
      "5 layers; 0.01 learning rate; 6 epochs; [0.6193112730979919, 0.6510416865348816] \n",
      "\n",
      "192/192 [==============================] - 1s 3ms/step\n",
      "5 layers; 0.01 learning rate; 8 epochs; [0.6069303750991821, 0.6510416865348816] \n",
      "\n",
      "192/192 [==============================] - 1s 3ms/step\n",
      "5 layers; 0.01 learning rate; 10 epochs; [0.5859572688738505, 0.6510416865348816] \n",
      "\n"
     ]
    }
   ],
   "source": [
    "\n",
    "from keras import optimizers as op\n",
    "\n",
    "n_layers = [2,3,4,5]\n",
    "\n",
    "learning_rate = [0.0001, 0.001, 0.01]\n",
    "\n",
    "n_epochs = [6,8,10]\n",
    "\n",
    "for nl in n_layers:\n",
    "    for lr in learning_rate:\n",
    "        for ne in n_epochs:\n",
    "    \n",
    "            # initialize optimizer\n",
    "            adam_opt = op.SGD(lr=0.01)\n",
    "            \n",
    "            # define layers\n",
    "            layers = [Dense(64, activation='relu') for i in range(nl - 1)]\n",
    "            layers.append(Dense(2, activation='softmax'))\n",
    "            \n",
    "            # create model with layers\n",
    "            model = Sequential(layers)\n",
    "            \n",
    "            # compile model with optimizer\n",
    "            model.compile(\n",
    "                    optimizer=adam_opt,\n",
    "                    loss='sparse_categorical_crossentropy',\n",
    "                    metrics=['accuracy'])\n",
    "            \n",
    "            # fit model with epochs\n",
    "            history = model.fit(X_train, y_train, epochs=ne, batch_size=32, verbose=0)\n",
    "            \n",
    "            # print results\n",
    "            print(nl, \"layers;\", lr, \"learning rate;\", ne, \"epochs;\", model.evaluate(X_test, y_test), \"\\n\")\n",
    "            "
   ]
  },
  {
   "cell_type": "markdown",
   "metadata": {},
   "source": [
    "**Which approach(es) did you find helpful to improve your model performance?**"
   ]
  },
  {
   "cell_type": "code",
   "execution_count": null,
   "metadata": {},
   "outputs": [],
   "source": [
    "\n",
    "\n",
    "'''\n",
    "There is no correlation between adding more epochs and improvements to performance.\n",
    "\n",
    "Overfitting?\n",
    "\n",
    "The model accuracy gets worse after a point.\n",
    "\n",
    "'''"
   ]
  }
 ],
 "metadata": {
  "kernelspec": {
   "display_name": "Python 3",
   "language": "python",
   "name": "python3"
  },
  "language_info": {
   "codemirror_mode": {
    "name": "ipython",
    "version": 3
   },
   "file_extension": ".py",
   "mimetype": "text/x-python",
   "name": "python",
   "nbconvert_exporter": "python",
   "pygments_lexer": "ipython3",
   "version": "3.7.7"
  }
 },
 "nbformat": 4,
 "nbformat_minor": 2
}
