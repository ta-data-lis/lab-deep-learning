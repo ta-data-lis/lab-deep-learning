{
 "cells": [
  {
   "cell_type": "markdown",
   "metadata": {},
   "source": [
    "# Challenge 1 - Tic Tac Toe\n",
    "\n",
    "In this lab you will perform deep learning analysis on a dataset of playing [Tic Tac Toe](https://en.wikipedia.org/wiki/Tic-tac-toe).\n",
    "\n",
    "There are 9 grids in Tic Tac Toe that are coded as the following picture shows:\n",
    "\n",
    "![Tic Tac Toe Grids](tttboard.jpg)\n",
    "\n",
    "In the first 9 columns of the dataset you can find which marks (`x` or `o`) exist in the grids. If there is no mark in a certain grid, it is labeled as `b`. The last column is `class` which tells you whether Player X (who always moves first in Tic Tac Toe) wins in this configuration. Note that when `class` has the value `False`, it means either Player O wins the game or it ends up as a draw."
   ]
  },
  {
   "cell_type": "markdown",
   "metadata": {},
   "source": [
    "Follow the steps suggested below to conduct a neural network analysis using Tensorflow and Keras. You will build a deep learning model to predict whether Player X wins the game or not.\n",
    "\n",
    "## Step 1: Data Engineering\n",
    "\n",
    "This dataset is almost in the ready-to-use state so you do not need to worry about missing values and so on. Still, some simple data engineering is needed.\n",
    "\n",
    "1. Read `tic-tac-toe.csv` into a dataframe.\n",
    "1. Inspect the dataset. Determine if the dataset is reliable by eyeballing the data.\n",
    "1. Convert the categorical values to numeric in all columns.\n",
    "1. Separate the inputs and output.\n",
    "1. Normalize the input data."
   ]
  },
  {
   "cell_type": "code",
   "execution_count": 2,
   "metadata": {},
   "outputs": [],
   "source": [
    "import tensorflow as tf\n",
    "from keras.models import Sequential\n",
    "from keras.layers import Dense\n",
    "from keras import losses\n",
    "import mnist\n",
    "from sklearn.model_selection import train_test_split\n",
    "import pandas as pd \n",
    "import numpy as np"
   ]
  },
  {
   "cell_type": "code",
   "execution_count": 3,
   "metadata": {},
   "outputs": [
    {
     "output_type": "execute_result",
     "data": {
      "text/plain": [
       "TL       0\n",
       "TM       0\n",
       "TR       0\n",
       "ML       0\n",
       "MM       0\n",
       "MR       0\n",
       "BL       0\n",
       "BM       0\n",
       "BR       0\n",
       "class    0\n",
       "dtype: int64"
      ]
     },
     "metadata": {},
     "execution_count": 3
    }
   ],
   "source": [
    "# your code here\n",
    "df = pd.read_csv(r'C:\\Users\\Sebas!\\Documents\\GitHub\\lab-deep-learning\\your-code\\tic-tac-toe.csv')\n",
    "\n",
    "df.isnull().sum()"
   ]
  },
  {
   "cell_type": "code",
   "execution_count": 4,
   "metadata": {},
   "outputs": [
    {
     "output_type": "execute_result",
     "data": {
      "text/plain": [
       "TL       object\n",
       "TM       object\n",
       "TR       object\n",
       "ML       object\n",
       "MM       object\n",
       "MR       object\n",
       "BL       object\n",
       "BM       object\n",
       "BR       object\n",
       "class      bool\n",
       "dtype: object"
      ]
     },
     "metadata": {},
     "execution_count": 4
    }
   ],
   "source": [
    "df.dtypes"
   ]
  },
  {
   "cell_type": "code",
   "execution_count": 5,
   "metadata": {},
   "outputs": [],
   "source": [
    "df.replace('x', value =1,inplace=True)\n",
    "df.replace('o', value =2,inplace=True)\n",
    "df.replace('b', value= 0, inplace=True)"
   ]
  },
  {
   "cell_type": "code",
   "execution_count": 6,
   "metadata": {},
   "outputs": [
    {
     "output_type": "execute_result",
     "data": {
      "text/plain": [
       "     TL  TM  TR  ML  MM  MR  BL  BM  BR  class\n",
       "0     1   1   1   1   2   2   1   2   2   True\n",
       "1     1   1   1   1   2   2   2   1   2   True\n",
       "2     1   1   1   1   2   2   2   2   1   True\n",
       "3     1   1   1   1   2   2   2   0   0   True\n",
       "4     1   1   1   1   2   2   0   2   0   True\n",
       "..   ..  ..  ..  ..  ..  ..  ..  ..  ..    ...\n",
       "953   2   1   1   1   2   2   2   1   1  False\n",
       "954   2   1   2   1   1   2   1   2   1  False\n",
       "955   2   1   2   1   2   1   1   2   1  False\n",
       "956   2   1   2   2   1   1   1   2   1  False\n",
       "957   2   2   1   1   1   2   2   1   1  False\n",
       "\n",
       "[958 rows x 10 columns]"
      ],
      "text/html": "<div>\n<style scoped>\n    .dataframe tbody tr th:only-of-type {\n        vertical-align: middle;\n    }\n\n    .dataframe tbody tr th {\n        vertical-align: top;\n    }\n\n    .dataframe thead th {\n        text-align: right;\n    }\n</style>\n<table border=\"1\" class=\"dataframe\">\n  <thead>\n    <tr style=\"text-align: right;\">\n      <th></th>\n      <th>TL</th>\n      <th>TM</th>\n      <th>TR</th>\n      <th>ML</th>\n      <th>MM</th>\n      <th>MR</th>\n      <th>BL</th>\n      <th>BM</th>\n      <th>BR</th>\n      <th>class</th>\n    </tr>\n  </thead>\n  <tbody>\n    <tr>\n      <th>0</th>\n      <td>1</td>\n      <td>1</td>\n      <td>1</td>\n      <td>1</td>\n      <td>2</td>\n      <td>2</td>\n      <td>1</td>\n      <td>2</td>\n      <td>2</td>\n      <td>True</td>\n    </tr>\n    <tr>\n      <th>1</th>\n      <td>1</td>\n      <td>1</td>\n      <td>1</td>\n      <td>1</td>\n      <td>2</td>\n      <td>2</td>\n      <td>2</td>\n      <td>1</td>\n      <td>2</td>\n      <td>True</td>\n    </tr>\n    <tr>\n      <th>2</th>\n      <td>1</td>\n      <td>1</td>\n      <td>1</td>\n      <td>1</td>\n      <td>2</td>\n      <td>2</td>\n      <td>2</td>\n      <td>2</td>\n      <td>1</td>\n      <td>True</td>\n    </tr>\n    <tr>\n      <th>3</th>\n      <td>1</td>\n      <td>1</td>\n      <td>1</td>\n      <td>1</td>\n      <td>2</td>\n      <td>2</td>\n      <td>2</td>\n      <td>0</td>\n      <td>0</td>\n      <td>True</td>\n    </tr>\n    <tr>\n      <th>4</th>\n      <td>1</td>\n      <td>1</td>\n      <td>1</td>\n      <td>1</td>\n      <td>2</td>\n      <td>2</td>\n      <td>0</td>\n      <td>2</td>\n      <td>0</td>\n      <td>True</td>\n    </tr>\n    <tr>\n      <th>...</th>\n      <td>...</td>\n      <td>...</td>\n      <td>...</td>\n      <td>...</td>\n      <td>...</td>\n      <td>...</td>\n      <td>...</td>\n      <td>...</td>\n      <td>...</td>\n      <td>...</td>\n    </tr>\n    <tr>\n      <th>953</th>\n      <td>2</td>\n      <td>1</td>\n      <td>1</td>\n      <td>1</td>\n      <td>2</td>\n      <td>2</td>\n      <td>2</td>\n      <td>1</td>\n      <td>1</td>\n      <td>False</td>\n    </tr>\n    <tr>\n      <th>954</th>\n      <td>2</td>\n      <td>1</td>\n      <td>2</td>\n      <td>1</td>\n      <td>1</td>\n      <td>2</td>\n      <td>1</td>\n      <td>2</td>\n      <td>1</td>\n      <td>False</td>\n    </tr>\n    <tr>\n      <th>955</th>\n      <td>2</td>\n      <td>1</td>\n      <td>2</td>\n      <td>1</td>\n      <td>2</td>\n      <td>1</td>\n      <td>1</td>\n      <td>2</td>\n      <td>1</td>\n      <td>False</td>\n    </tr>\n    <tr>\n      <th>956</th>\n      <td>2</td>\n      <td>1</td>\n      <td>2</td>\n      <td>2</td>\n      <td>1</td>\n      <td>1</td>\n      <td>1</td>\n      <td>2</td>\n      <td>1</td>\n      <td>False</td>\n    </tr>\n    <tr>\n      <th>957</th>\n      <td>2</td>\n      <td>2</td>\n      <td>1</td>\n      <td>1</td>\n      <td>1</td>\n      <td>2</td>\n      <td>2</td>\n      <td>1</td>\n      <td>1</td>\n      <td>False</td>\n    </tr>\n  </tbody>\n</table>\n<p>958 rows × 10 columns</p>\n</div>"
     },
     "metadata": {},
     "execution_count": 6
    }
   ],
   "source": [
    "df"
   ]
  },
  {
   "cell_type": "markdown",
   "metadata": {},
   "source": [
    "## Step 2: Build Neural Network\n",
    "\n",
    "To build the neural network, you can refer to your own codes you wrote while following the [Deep Learning with Python, TensorFlow, and Keras tutorial](https://www.youtube.com/watch?v=wQ8BIBpya2k) in the lesson. It's pretty similar to what you will be doing in this lab.\n",
    "\n",
    "1. Split the training and test data.\n",
    "1. Create a `Sequential` model.\n",
    "1. Add several layers to your model. Make sure you use ReLU as the activation function for the middle layers. Use Softmax for the output layer because each output has a single lable and all the label probabilities add up to 1.\n",
    "1. Compile the model using `adam` as the optimizer and `sparse_categorical_crossentropy` as the loss function. For metrics, use `accuracy` for now.\n",
    "1. Fit the training data.\n",
    "1. Evaluate your neural network model with the test data.\n",
    "1. Save your model as `tic-tac-toe.model`."
   ]
  },
  {
   "cell_type": "code",
   "execution_count": 7,
   "metadata": {},
   "outputs": [
    {
     "output_type": "execute_result",
     "data": {
      "text/plain": [
       "Index(['TL', 'TM', 'TR', 'ML', 'MM', 'MR', 'BL', 'BM', 'BR', 'class'], dtype='object')"
      ]
     },
     "metadata": {},
     "execution_count": 7
    }
   ],
   "source": [
    "df.columns"
   ]
  },
  {
   "cell_type": "code",
   "execution_count": 8,
   "metadata": {},
   "outputs": [],
   "source": [
    "df_randomized = df.sample(frac=1).reset_index(drop=True) #This randomize the entire dataset "
   ]
  },
  {
   "cell_type": "code",
   "execution_count": 9,
   "metadata": {},
   "outputs": [],
   "source": [
    "# your code here\n",
    "\n",
    "'''I was practically copying-pasting the documentation https://www.tensorflow.org/tutorials/load_data/pandas_dataframe since we had the same situation, but it gave me a lot of problems when we reach the training step, the main issue was the shape for the features and the layers they MUST be the same due something called scalar values.\n",
    "\n",
    "My solution to this issue is, since the shape of the features where (9, 2) and the labels where (None,1) I decided to reshape the labels by adding two layers, one for shape and another one applied also to the features due the scalar value'''\n",
    "\n",
    "features_train = tf.data.Dataset.from_tensor_slices(df_randomized[['TL', 'TM', 'TR', 'ML', 'MM', 'MR', 'BL', 'BM', 'BR']][:670].values)\n",
    "label_train = tf.data.Dataset.from_tensor_slices(df_randomized['class'][:670].values).batch(1) #layer 2\n",
    "\n",
    "features_test = tf.data.Dataset.from_tensor_slices(df_randomized[['TL', 'TM', 'TR', 'ML', 'MM', 'MR', 'BL', 'BM', 'BR']][670:].values)\n",
    "label_test = tf.data.Dataset.from_tensor_slices(df_randomized['class'][670:].values).batch(1)\n",
    "\n",
    "dataset_train_no_scalar = tf.data.Dataset.zip((features_train, label_train))\n",
    "dataset_test_no_scalar = tf.data.Dataset.zip((features_test, label_test))"
   ]
  },
  {
   "cell_type": "code",
   "execution_count": 10,
   "metadata": {},
   "outputs": [
    {
     "output_type": "stream",
     "name": "stdout",
     "text": [
      "Features: [0 2 1 0 2 0 1 2 1], Target: [False]\nFeatures: [2 0 2 1 1 1 2 1 0], Target: [ True]\nFeatures: [1 1 2 2 1 1 1 2 2], Target: [False]\nFeatures: [1 0 2 1 2 1 1 0 2], Target: [ True]\nFeatures: [1 1 1 2 2 1 0 0 2], Target: [ True]\n"
     ]
    }
   ],
   "source": [
    "for feat, targ in dataset_train_no_scalar.take(5):\n",
    "  print ('Features: {}, Target: {}'.format(feat, targ))"
   ]
  },
  {
   "cell_type": "code",
   "execution_count": 11,
   "metadata": {
    "tags": []
   },
   "outputs": [
    {
     "output_type": "stream",
     "name": "stdout",
     "text": [
      "Features: [[0 2 1 0 2 0 1 2 1]], Target: [[False]]\nFeatures: [[2 0 2 1 1 1 2 1 0]], Target: [[ True]]\nFeatures: [[1 1 2 2 1 1 1 2 2]], Target: [[False]]\nFeatures: [[1 0 2 1 2 1 1 0 2]], Target: [[ True]]\nFeatures: [[1 1 1 2 2 1 0 0 2]], Target: [[ True]]\n"
     ]
    }
   ],
   "source": [
    "train_dataset = dataset_train_no_scalar.batch(1) # extra layer for scalar value\n",
    "test_dataset = dataset_test_no_scalar.batch(1)\n",
    "\n",
    "for feat, targ in train_dataset.take(5):\n",
    "  print ('Features: {}, Target: {}'.format(feat, targ))"
   ]
  },
  {
   "cell_type": "code",
   "execution_count": 14,
   "metadata": {},
   "outputs": [
    {
     "output_type": "stream",
     "name": "stdout",
     "text": [
      "Epoch 1/5\n",
      "670/670 [==============================] - 1s 854us/step - loss: 0.6427 - accuracy: 0.5030\n",
      "Epoch 2/5\n",
      "670/670 [==============================] - 1s 883us/step - loss: 0.6427 - accuracy: 0.5134\n",
      "Epoch 3/5\n",
      "670/670 [==============================] - 1s 886us/step - loss: 0.6427 - accuracy: 0.5075\n",
      "Epoch 4/5\n",
      "670/670 [==============================] - 1s 841us/step - loss: 0.6427 - accuracy: 0.5104\n",
      "Epoch 5/5\n",
      "670/670 [==============================] - 1s 841us/step - loss: 0.6427 - accuracy: 0.5149\n"
     ]
    },
    {
     "output_type": "execute_result",
     "data": {
      "text/plain": [
       "<tensorflow.python.keras.callbacks.History at 0x21e5a65c460>"
      ]
     },
     "metadata": {},
     "execution_count": 14
    }
   ],
   "source": [
    "def get_compiled_model():  \n",
    "  model = tf.keras.Sequential([\n",
    "    tf.keras.layers.Flatten(),\n",
    "    tf.keras.layers.Dense(128, activation=tf.nn.relu),\n",
    "    tf.keras.layers.Dense(128, activation=tf.nn.relu),\n",
    "    tf.keras.layers.Dense(128, activation=tf.nn.relu),\n",
    "    tf.keras.layers.Dense(128, activation=tf.nn.relu),\n",
    "    tf.keras.layers.Dense(128, activation=tf.nn.relu),\n",
    "\n",
    "    tf.keras.layers.Dense(2, activation=tf.nn.softmax)\n",
    "  ])\n",
    "\n",
    "  model.compile(optimizer='adam',\n",
    "                loss=tf.keras.losses.BinaryCrossentropy(from_logits=True), #https://keras.io/api/losses/probabilistic_losses/#sparse_categorical_crossentropy-function\n",
    "                metrics=['accuracy'])\n",
    "  return model\n",
    "\n",
    "model = get_compiled_model()\n",
    "model.fit(train_dataset, epochs= 5)"
   ]
  },
  {
   "cell_type": "code",
   "execution_count": 16,
   "metadata": {},
   "outputs": [
    {
     "output_type": "stream",
     "name": "stdout",
     "text": [
      "288/288 [==============================] - 0s 499us/step - loss: 0.6581 - accuracy: 0.0729\n"
     ]
    }
   ],
   "source": [
    "val_loss, val_acc = model.evaluate(test_dataset)"
   ]
  },
  {
   "cell_type": "markdown",
   "metadata": {},
   "source": [
    "## Step 3: Make Predictions\n",
    "\n",
    "Now load your saved model and use it to make predictions on a few random rows in the test dataset. Check if the predictions are correct."
   ]
  },
  {
   "cell_type": "code",
   "execution_count": 13,
   "metadata": {},
   "outputs": [],
   "source": [
    "# your code here\n",
    "#model.save('tic_tac_toe.model')"
   ]
  },
  {
   "cell_type": "code",
   "execution_count": 14,
   "metadata": {},
   "outputs": [],
   "source": [
    "new_model = tf.keras.models.load_model('tic_tac_toe.model')"
   ]
  },
  {
   "cell_type": "code",
   "execution_count": 15,
   "metadata": {},
   "outputs": [],
   "source": [
    "prediction = new_model.predict([df_randomized[['TL', 'TM', 'TR', 'ML', 'MM', 'MR', 'BL', 'BM', 'BR']][670:]])"
   ]
  },
  {
   "cell_type": "code",
   "execution_count": 16,
   "metadata": {},
   "outputs": [
    {
     "output_type": "stream",
     "name": "stdout",
     "text": [
      "108 incorrect predictions out of 288 predictions 37.5 %\n"
     ]
    }
   ],
   "source": [
    "test = df_randomized['class'][670:].values\n",
    "wrong_predictions = 0\n",
    "for n in range(0,len(test)):\n",
    "    predicted_value = bool(np.argmax(prediction[n]))\n",
    "    if predicted_value != test[n]:\n",
    "        #print('Prediction:',predicted_value,' Real data:',test[n], ' In row:', n)\n",
    "        wrong_predictions += 1\n",
    "\n",
    "print(wrong_predictions,'incorrect predictions out of',len(test),'predictions', wrong_predictions*100/len(test),'%')"
   ]
  },
  {
   "cell_type": "markdown",
   "metadata": {},
   "source": [
    "## Step 4: Improve Your Model\n",
    "\n",
    "Did your model achieve low loss (<0.1) and high accuracy (>0.95)? If not, try to improve your model.\n",
    "\n",
    "But how? There are so many things you can play with in Tensorflow and in the next challenge you'll learn about these things. But in this challenge, let's just do a few things to see if they will help.\n",
    "\n",
    "* Add more layers to your model. If the data are complex you need more layers. But don't use more layers than you need. If adding more layers does not improve the model performance you don't need additional layers.\n",
    "* Adjust the learning rate when you compile the model. This means you will create a custom `tf.keras.optimizers.Adam` instance where you specify the learning rate you want. Then pass the instance to `model.compile` as the optimizer.\n",
    "    * `tf.keras.optimizers.Adam` [reference](https://www.tensorflow.org/api_docs/python/tf/keras/optimizers/Adam).\n",
    "    * Don't worry if you don't understand what the learning rate does. You'll learn about it in the next challenge.\n",
    "* Adjust the number of epochs when you fit the training data to the model. Your model performance continues to improve as you train more epochs. But eventually it will reach the ceiling and the performance will stay the same."
   ]
  },
  {
   "cell_type": "code",
   "execution_count": 18,
   "metadata": {},
   "outputs": [],
   "source": [
    "# your code here\n",
    "new_model.add( tf.keras.layers.Dense(128, activation=tf.nn.relu, name='new_layer_1') )\n",
    "new_model.add(tf.keras.layers.Flatten(name='new_flattener'))\n",
    "new_model.add( tf.keras.layers.Dense(2, activation=tf.nn.relu, name='new_output_layer') )\n",
    "\n",
    "\n"
   ]
  },
  {
   "cell_type": "code",
   "execution_count": 19,
   "metadata": {},
   "outputs": [],
   "source": [
    "new_model.compile(optimizer= tf.keras.optimizers.Adam(learning_rate=0.003, \n",
    "                                                      beta_1=0.9, beta_2=0.999, \n",
    "                                                      epsilon=1e-07, \n",
    "                                                      amsgrad=False),\n",
    "                loss=tf.keras.losses.BinaryCrossentropy(from_logits=True), \n",
    "                metrics=['accuracy'])\n"
   ]
  },
  {
   "cell_type": "code",
   "execution_count": 20,
   "metadata": {},
   "outputs": [
    {
     "output_type": "stream",
     "name": "stdout",
     "text": [
      "Epoch 1/5\n",
      "670/670 [==============================] - 1s 953us/step - loss: 0.6525 - accuracy: 0.4239\n",
      "Epoch 2/5\n",
      "670/670 [==============================] - 1s 955us/step - loss: 0.6490 - accuracy: 0.7030\n",
      "Epoch 3/5\n",
      "670/670 [==============================] - 1s 961us/step - loss: 0.6486 - accuracy: 0.7463\n",
      "Epoch 4/5\n",
      "670/670 [==============================] - 1s 1ms/step - loss: 0.6483 - accuracy: 0.7687\n",
      "Epoch 5/5\n",
      "670/670 [==============================] - 1s 992us/step - loss: 0.6481 - accuracy: 0.7731\n"
     ]
    },
    {
     "output_type": "execute_result",
     "data": {
      "text/plain": [
       "<tensorflow.python.keras.callbacks.History at 0x1eb3f83bd90>"
      ]
     },
     "metadata": {},
     "execution_count": 20
    }
   ],
   "source": [
    "new_model.fit(train_dataset, epochs= 5)  "
   ]
  },
  {
   "cell_type": "code",
   "execution_count": 20,
   "metadata": {},
   "outputs": [
    {
     "output_type": "stream",
     "name": "stdout",
     "text": [
      "288/288 [==============================] - 0s 589us/step - loss: 0.6931 - accuracy: 1.0000\n"
     ]
    }
   ],
   "source": [
    "val_loss, val_acc = new_model.evaluate(test_dataset)"
   ]
  },
  {
   "cell_type": "markdown",
   "metadata": {},
   "source": [
    "**Which approach(es) did you find helpful to improve your model performance?**"
   ]
  },
  {
   "cell_type": "code",
   "execution_count": 21,
   "metadata": {},
   "outputs": [],
   "source": [
    "# your answer here\n",
    "# by trial and error, I suspected that since the learning rate was very low I should be more reserved in increasing it and I believe that I was reaching an overfitting if it was added another layer."
   ]
  }
 ],
 "metadata": {
  "kernelspec": {
   "name": "python385jvsc74a57bd09efc80705562ef6f8028ba9c07828938c290468cbec0ebcf2b44f68ee94d478d",
   "display_name": "Python 3.8.5 64-bit"
  },
  "language_info": {
   "codemirror_mode": {
    "name": "ipython",
    "version": 3
   },
   "file_extension": ".py",
   "mimetype": "text/x-python",
   "name": "python",
   "nbconvert_exporter": "python",
   "pygments_lexer": "ipython3",
   "version": "3.8.5"
  }
 },
 "nbformat": 4,
 "nbformat_minor": 2
}